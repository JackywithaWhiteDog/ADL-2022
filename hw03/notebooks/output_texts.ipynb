{
 "cells": [
  {
   "cell_type": "code",
   "execution_count": 11,
   "metadata": {},
   "outputs": [],
   "source": [
    "import json\n",
    "\n",
    "import numpy as np\n",
    "import pandas as pd"
   ]
  },
  {
   "cell_type": "code",
   "execution_count": 8,
   "metadata": {},
   "outputs": [
    {
     "data": {
      "text/plain": [
       "(5494, 5494, 5494)"
      ]
     },
     "execution_count": 8,
     "metadata": {},
     "output_type": "execute_result"
    }
   ],
   "source": [
    "data_true = []\n",
    "with open('../data/public.jsonl', 'r') as f:\n",
    "    for line in f:\n",
    "        data_true.append(json.loads(line))\n",
    "\n",
    "data_greedy = []\n",
    "with open('../pred/public_greedy.jsonl', 'r') as f:\n",
    "    for line in f:\n",
    "        data_greedy.append(json.loads(line))\n",
    "\n",
    "data_rl = []\n",
    "with open('../pred/public_rl.jsonl', 'r') as f:\n",
    "    for line in f:\n",
    "        data_rl.append(json.loads(line))\n",
    "\n",
    "len(data_true), len(data_greedy), len(data_rl)"
   ]
  },
  {
   "cell_type": "code",
   "execution_count": 9,
   "metadata": {},
   "outputs": [],
   "source": [
    "data_true = sorted(data_true, key=lambda x: int(x['id']))\n",
    "data_greedy = sorted(data_greedy, key=lambda x: int(x['id']))\n",
    "data_rl = sorted(data_rl, key=lambda x: int(x['id']))\n",
    "\n",
    "for t, g, r in zip(data_true, data_greedy, data_rl):\n",
    "    assert (t['id'] == g['id']) and (t['id'] == r['id'])"
   ]
  },
  {
   "cell_type": "code",
   "execution_count": 23,
   "metadata": {},
   "outputs": [
    {
     "data": {
      "text/html": [
       "<div>\n",
       "<style scoped>\n",
       "    .dataframe tbody tr th:only-of-type {\n",
       "        vertical-align: middle;\n",
       "    }\n",
       "\n",
       "    .dataframe tbody tr th {\n",
       "        vertical-align: top;\n",
       "    }\n",
       "\n",
       "    .dataframe thead th {\n",
       "        text-align: right;\n",
       "    }\n",
       "</style>\n",
       "<table border=\"1\" class=\"dataframe\">\n",
       "  <thead>\n",
       "    <tr style=\"text-align: right;\">\n",
       "      <th></th>\n",
       "      <th>id</th>\n",
       "      <th>title</th>\n",
       "      <th>supervised learning</th>\n",
       "      <th>reinforcement learning</th>\n",
       "    </tr>\n",
       "  </thead>\n",
       "  <tbody>\n",
       "    <tr>\n",
       "      <th>0</th>\n",
       "      <td>21710</td>\n",
       "      <td>Anker新款真無線藍牙耳機Liberty Air 2 Pro 引進台灣市場</td>\n",
       "      <td>Anker推出真無線藍牙耳機 支援App設定手勢</td>\n",
       "      <td>Anker推出真無線藍牙耳機 支援App設定手勢對應功能</td>\n",
       "    </tr>\n",
       "    <tr>\n",
       "      <th>1</th>\n",
       "      <td>21711</td>\n",
       "      <td>藍染、客家美食、舊山線自行車 「苗栗一日遊」超人氣美食美景</td>\n",
       "      <td>鐵道自行車、三號、五號、六號、六號!\\n苗栗「最美C路線」推薦,還有鐵道自行車、鐵道自行車</td>\n",
       "      <td>苗栗「鐵道自行車」懶人包!\\n鐵道自行車、客家美食懶人包</td>\n",
       "    </tr>\n",
       "    <tr>\n",
       "      <th>2</th>\n",
       "      <td>21712</td>\n",
       "      <td>華碩打造對應軍規防護與2 in 1設計的15.6吋Chromebook</td>\n",
       "      <td>華碩推出換上Intel第11代Core處理器的Chromebook Flip CX5 藉由1...</td>\n",
       "      <td>華碩揭曉新款Chromebook Flip 5 加入2 in 1處理器</td>\n",
       "    </tr>\n",
       "    <tr>\n",
       "      <th>3</th>\n",
       "      <td>21713</td>\n",
       "      <td>產業發展變革 台灣的優勢與機會</td>\n",
       "      <td>理財我最大/解封產業新契機</td>\n",
       "      <td>理財我最大/理財我最大 邀請工研院產科國際所長蘇孟宗</td>\n",
       "    </tr>\n",
       "    <tr>\n",
       "      <th>4</th>\n",
       "      <td>21714</td>\n",
       "      <td>全球Windows 7裝置粗估至少還有1億台以上 市佔率穩穩卡在20％</td>\n",
       "      <td>微軟宣布:Windows 7退出消費市場 但仍有更多裝置仍有更多</td>\n",
       "      <td>微軟宣布:Windows 7退出消費市場 但仍有15億Windows作業系統使用者</td>\n",
       "    </tr>\n",
       "  </tbody>\n",
       "</table>\n",
       "</div>"
      ],
      "text/plain": [
       "      id                                   title  \\\n",
       "0  21710  Anker新款真無線藍牙耳機Liberty Air 2 Pro 引進台灣市場   \n",
       "1  21711           藍染、客家美食、舊山線自行車 「苗栗一日遊」超人氣美食美景   \n",
       "2  21712     華碩打造對應軍規防護與2 in 1設計的15.6吋Chromebook   \n",
       "3  21713                         產業發展變革 台灣的優勢與機會   \n",
       "4  21714     全球Windows 7裝置粗估至少還有1億台以上 市佔率穩穩卡在20％   \n",
       "\n",
       "                                 supervised learning  \\\n",
       "0                           Anker推出真無線藍牙耳機 支援App設定手勢   \n",
       "1      鐵道自行車、三號、五號、六號、六號!\\n苗栗「最美C路線」推薦,還有鐵道自行車、鐵道自行車   \n",
       "2  華碩推出換上Intel第11代Core處理器的Chromebook Flip CX5 藉由1...   \n",
       "3                                      理財我最大/解封產業新契機   \n",
       "4                   微軟宣布:Windows 7退出消費市場 但仍有更多裝置仍有更多   \n",
       "\n",
       "                      reinforcement learning  \n",
       "0               Anker推出真無線藍牙耳機 支援App設定手勢對應功能  \n",
       "1               苗栗「鐵道自行車」懶人包!\\n鐵道自行車、客家美食懶人包  \n",
       "2        華碩揭曉新款Chromebook Flip 5 加入2 in 1處理器  \n",
       "3                 理財我最大/理財我最大 邀請工研院產科國際所長蘇孟宗  \n",
       "4  微軟宣布:Windows 7退出消費市場 但仍有15億Windows作業系統使用者  "
      ]
     },
     "execution_count": 23,
     "metadata": {},
     "output_type": "execute_result"
    }
   ],
   "source": [
    "df = pd.DataFrame([\n",
    "    {\n",
    "        'id': t['id'],\n",
    "        'title': t['title'],\n",
    "        'supervised learning': g['title'],\n",
    "        'reinforcement learning': r['title']\n",
    "    }\n",
    "    for t, g, r in zip(data_true, data_greedy, data_rl)\n",
    "])\n",
    "df.head()"
   ]
  },
  {
   "cell_type": "code",
   "execution_count": 36,
   "metadata": {},
   "outputs": [
    {
     "data": {
      "text/html": [
       "<div>\n",
       "<style scoped>\n",
       "    .dataframe tbody tr th:only-of-type {\n",
       "        vertical-align: middle;\n",
       "    }\n",
       "\n",
       "    .dataframe tbody tr th {\n",
       "        vertical-align: top;\n",
       "    }\n",
       "\n",
       "    .dataframe thead th {\n",
       "        text-align: right;\n",
       "    }\n",
       "</style>\n",
       "<table border=\"1\" class=\"dataframe\">\n",
       "  <thead>\n",
       "    <tr style=\"text-align: right;\">\n",
       "      <th></th>\n",
       "      <th>id</th>\n",
       "      <th>title</th>\n",
       "      <th>supervised learning</th>\n",
       "      <th>reinforcement learning</th>\n",
       "    </tr>\n",
       "  </thead>\n",
       "  <tbody>\n",
       "    <tr>\n",
       "      <th>5168</th>\n",
       "      <td>26878</td>\n",
       "      <td>緬甸示威者發動復活節示威 軍方持續暴力鎮壓</td>\n",
       "      <td>緬甸示威者彩蛋上寫抗議 抗議者寫抗議</td>\n",
       "      <td>緬甸反政變示威者彩蛋上寫反對軍政府政變信息</td>\n",
       "    </tr>\n",
       "    <tr>\n",
       "      <th>3113</th>\n",
       "      <td>24823</td>\n",
       "      <td>Microsoft Mesh是微軟針對虛實整合互動打造的雲端服務</td>\n",
       "      <td>微軟針對虛實整合互動需求 打造名為Microsoft Mesh雲端服務</td>\n",
       "      <td>微軟推出旗下Microsoft Mesh雲端服務 讓使用者輕易透過VR、AR頭戴裝置連接</td>\n",
       "    </tr>\n",
       "    <tr>\n",
       "      <th>2205</th>\n",
       "      <td>23915</td>\n",
       "      <td>今天是節氣「雨水」！3生肖遇水則發 雨水後福運滿溢</td>\n",
       "      <td>春節的第二樂章!哪些生肖會遇水、天降甘霖?</td>\n",
       "      <td>春節尾聲 哪些生肖會遇水則發、天降甘霖般的福運?</td>\n",
       "    </tr>\n",
       "    <tr>\n",
       "      <th>1471</th>\n",
       "      <td>23181</td>\n",
       "      <td>全球教育史上最特別的一屆 病毒風暴產生前所未有挑戰</td>\n",
       "      <td>疫情下的防疫 疫情下的「中港澳」</td>\n",
       "      <td>寒假開學2週重新上課 網友:疫情風暴 教育產生前所未有挑戰</td>\n",
       "    </tr>\n",
       "    <tr>\n",
       "      <th>4966</th>\n",
       "      <td>26676</td>\n",
       "      <td>NBA／三兄弟終於同台 安戴托昆波：生涯最棒時刻</td>\n",
       "      <td>NBA/字母三兄弟同台上場 Giannis:現在我進NBA最棒時刻</td>\n",
       "      <td>NBA/字母哥、安戴托昆波 三兄弟同台上場</td>\n",
       "    </tr>\n",
       "    <tr>\n",
       "      <th>2437</th>\n",
       "      <td>24147</td>\n",
       "      <td>盤點春季新菜！鳥取和牛、魚子醬、花膠、鮑魚全入列</td>\n",
       "      <td>鳥取和牛登台!\\n名廚高山英紀「雙強」餐會場場爆滿</td>\n",
       "      <td>鳥取和牛登台!名廚高山英紀創意 創意創意創意</td>\n",
       "    </tr>\n",
       "    <tr>\n",
       "      <th>3984</th>\n",
       "      <td>25694</td>\n",
       "      <td>明天是節氣春分！啟動轉運契機 「4生肖」更是喜從天降</td>\n",
       "      <td>哪些生肖迎來喜從天降?\\n哪些生肖迎來喜從天降?</td>\n",
       "      <td>哪些生肖迎來喜從天降的好運?</td>\n",
       "    </tr>\n",
       "    <tr>\n",
       "      <th>1272</th>\n",
       "      <td>22982</td>\n",
       "      <td>過年肥胖 瘦不下來怎麼辦？中醫減重埋線神助攻</td>\n",
       "      <td>減重、減脂 5招健康飲食原則</td>\n",
       "      <td>減重、減脂 5招健康飲食原則</td>\n",
       "    </tr>\n",
       "    <tr>\n",
       "      <th>2989</th>\n",
       "      <td>24699</td>\n",
       "      <td>被森林環繞的「露營咖啡廳」！「Friend in café」打造全新帳篷咖啡廳，還可野餐好吸睛</td>\n",
       "      <td>桃園「Friend in café」新商機!\\n咖啡廳融合露營 每日營業僅開放假日營業</td>\n",
       "      <td>桃園蘆竹「帳篷露營」咖啡廳融合露營 咖啡廳融合露營</td>\n",
       "    </tr>\n",
       "    <tr>\n",
       "      <th>2841</th>\n",
       "      <td>24551</td>\n",
       "      <td>義守大學前瞻未來 向全球學生招手</td>\n",
       "      <td>義守大學推動AI智慧科技 推動數位化學習環境</td>\n",
       "      <td>義守大推動跨域創新 推動跨域創新</td>\n",
       "    </tr>\n",
       "  </tbody>\n",
       "</table>\n",
       "</div>"
      ],
      "text/plain": [
       "         id                                            title  \\\n",
       "5168  26878                            緬甸示威者發動復活節示威 軍方持續暴力鎮壓   \n",
       "3113  24823                 Microsoft Mesh是微軟針對虛實整合互動打造的雲端服務   \n",
       "2205  23915                        今天是節氣「雨水」！3生肖遇水則發 雨水後福運滿溢   \n",
       "1471  23181                        全球教育史上最特別的一屆 病毒風暴產生前所未有挑戰   \n",
       "4966  26676                         NBA／三兄弟終於同台 安戴托昆波：生涯最棒時刻   \n",
       "2437  24147                         盤點春季新菜！鳥取和牛、魚子醬、花膠、鮑魚全入列   \n",
       "3984  25694                       明天是節氣春分！啟動轉運契機 「4生肖」更是喜從天降   \n",
       "1272  22982                           過年肥胖 瘦不下來怎麼辦？中醫減重埋線神助攻   \n",
       "2989  24699  被森林環繞的「露營咖啡廳」！「Friend in café」打造全新帳篷咖啡廳，還可野餐好吸睛   \n",
       "2841  24551                                 義守大學前瞻未來 向全球學生招手   \n",
       "\n",
       "                              supervised learning  \\\n",
       "5168                           緬甸示威者彩蛋上寫抗議 抗議者寫抗議   \n",
       "3113          微軟針對虛實整合互動需求 打造名為Microsoft Mesh雲端服務   \n",
       "2205                        春節的第二樂章!哪些生肖會遇水、天降甘霖?   \n",
       "1471                             疫情下的防疫 疫情下的「中港澳」   \n",
       "4966            NBA/字母三兄弟同台上場 Giannis:現在我進NBA最棒時刻   \n",
       "2437                    鳥取和牛登台!\\n名廚高山英紀「雙強」餐會場場爆滿   \n",
       "3984                     哪些生肖迎來喜從天降?\\n哪些生肖迎來喜從天降?   \n",
       "1272                               減重、減脂 5招健康飲食原則   \n",
       "2989  桃園「Friend in café」新商機!\\n咖啡廳融合露營 每日營業僅開放假日營業   \n",
       "2841                       義守大學推動AI智慧科技 推動數位化學習環境   \n",
       "\n",
       "                            reinforcement learning  \n",
       "5168                         緬甸反政變示威者彩蛋上寫反對軍政府政變信息  \n",
       "3113  微軟推出旗下Microsoft Mesh雲端服務 讓使用者輕易透過VR、AR頭戴裝置連接  \n",
       "2205                      春節尾聲 哪些生肖會遇水則發、天降甘霖般的福運?  \n",
       "1471                 寒假開學2週重新上課 網友:疫情風暴 教育產生前所未有挑戰  \n",
       "4966                         NBA/字母哥、安戴托昆波 三兄弟同台上場  \n",
       "2437                        鳥取和牛登台!名廚高山英紀創意 創意創意創意  \n",
       "3984                                哪些生肖迎來喜從天降的好運?  \n",
       "1272                                減重、減脂 5招健康飲食原則  \n",
       "2989                     桃園蘆竹「帳篷露營」咖啡廳融合露營 咖啡廳融合露營  \n",
       "2841                              義守大推動跨域創新 推動跨域創新  "
      ]
     },
     "execution_count": 36,
     "metadata": {},
     "output_type": "execute_result"
    }
   ],
   "source": [
    "df.sample(n=10)"
   ]
  },
  {
   "cell_type": "code",
   "execution_count": 30,
   "metadata": {},
   "outputs": [
    {
     "data": {
      "text/plain": [
       "{'date_publish': '2021-03-24 00:00:00',\n",
       " 'title': '影／腦麻女臥床50年老父讓她「解脫」 北院籲請總統特赦',\n",
       " 'source_domain': 'udn.com',\n",
       " 'maintext': '78歲陳姓老翁長年照顧患有先天性腦性麻痺的女兒，去年3月清晨見女兒牙痛，吃止痛藥也無效，涉嫌用棉被將她悶死，再吞下大量安眠藥欲尋短。陳送醫撿回一命，檢方依殺人罪嫌起訴，台北地院判他2年6月徒刑，但罕見地籲請總統特赦。陳的兒子聲請犯罪被害人訴訟參與，但疑因不懂法律規定而和法官雞同鴨講，法官請他備齊資料、候核辦。\\n刑事訴訟法第455-40條規定「法院於徵詢檢察官、被告、辯護人及輔佐人之意見，並斟酌案件情節、聲請人與被告之關係、訴訟進行之程度及聲請人之利益，認為適當者，應為准許訴訟參與之裁定；認為不適當者，應以裁定駁回之。」\\n陳姓夫妻育有2名女兒和1名兒子，死去的女兒排行第二。次女年約半百，從小就罹患先天性腦性麻痹，臥病在床，生活無法自理。她起先由雙親一同照顧，後來母親身體出狀況、開刀，已無力再隨時照料女兒，改由父親搬去跟女兒睡同房，單獨照顧。女兒在父母多年來無微不至的照顧之下，沒有生褥瘡。\\n去年2月29日半夜，女兒因為牙齒疼痛，徹夜哀號、呻吟，吃了止痛藥也沒效。陳姓老翁不想再讓女兒吃止痛藥，又認為女兒活得很痛苦，想替她結束這苦難的一生，悶死女兒後，吞藥輕生。\\n隔天清晨6點多，陳妻睡醒發覺而打119求救。女兒送醫宣告不治，陳撿回一命，因他罹患憂鬱症，先到精神科病房住院治療。\\n台北地院審理認為，陳雖服用5、60顆安眠藥，但清醒後能清楚回答警、檢相關問題，也表示後悔，辨識能力並無問題。\\n「我知道這是有罪的！」陳指女兒50年來都躺在床上，他不忍女兒這般痛苦，才結束她的生命。北院認為陳長期處在焦慮與憂鬱的狀態中，加上新冠肺炎疫情影響無法帶女兒就醫，在壓力之下才認為讓女兒死去是種解脫。\\n家屬希望陳不要被關，並指若他入獄，對家人來說是另一種難以承受的糾結，並證稱他「非常愛女兒」。北院認為陳往後的人生歲月都會受到「良心監牢」禁錮，要不要讓他入獄實有審酌餘地，並籲請有赦免裁量權的總統能發布特赦令，避免刑罰過苛。\\n北院表示，陳家人照顧女兒半世紀，卻沒能獲得社會資源挹注、沒有適時承接照顧者的社會福利制度或支持，這使得陳不斷累積擔憂，出現了憂鬱、焦慮、失眠等心理狀況，釀成人倫悲劇。\\n陳姓老翁上訴，么兒以犯罪被害人家屬身分參與訴訟，高等法院今開訊問庭。法官詢問么兒聲請訴訟參與要旨，他卻回答對一審判決過程完全不知情，也覺得過程中有很多「不太對」的地方，想了解訴訟進行。\\n么兒說，事發前一星期曾回家探視，當時就現二姊的心臟頻率不太對，他認為如果二姊是「自然死亡」，這樣對父親不公平。他說，在殯儀館看到二姊的容貌，她就像50年來睡覺的樣子，希望法官將父親送精神鑑定。\\n被害人訴訟參與多是指替被害人「申冤」，但么兒在庭上的發言卻像是替父親說話，加上語意不清楚，法官張大眼問「是只有我聽不懂嗎？」，並詢問么兒事發後家庭關係又否有分「挺父親、挺二姊」兩意見、他是否代表所有家屬發言？\\n法官表示，北院合議庭花了很多時間寫出判決書，希望么兒能詳讀，並先了解訴訟參與的意義；么兒稱是，但說「假設不是我爸加害的，二姊在天上也會覺得不是這樣」，並指家人都對二姊很好。么兒說，下回可以出示委託書，證明他替家人發言。\\n高檢署檢察官對陳的么兒聲請訴訟參與沒有意見，而本案檢方也未上訴。法官表示是否准許訴訟參與待合議庭評議，本件候核辦。\\n陳姓老翁一家人步出法庭時未多言，么兒表示本案還在訴訟中，不便表示意見。',\n",
       " 'split': 'dev',\n",
       " 'id': '26145'}"
      ]
     },
     "execution_count": 30,
     "metadata": {},
     "output_type": "execute_result"
    }
   ],
   "source": [
    "data_true[4435]"
   ]
  },
  {
   "cell_type": "code",
   "execution_count": null,
   "metadata": {},
   "outputs": [],
   "source": []
  }
 ],
 "metadata": {
  "interpreter": {
   "hash": "5897305dd15b6b6db08a7a81208839b999dd15af6e23f10591dc8894db04da27"
  },
  "kernelspec": {
   "display_name": "Python 3.8.12 64-bit ('adl-hw03')",
   "language": "python",
   "name": "python3"
  },
  "language_info": {
   "codemirror_mode": {
    "name": "ipython",
    "version": 3
   },
   "file_extension": ".py",
   "mimetype": "text/x-python",
   "name": "python",
   "nbconvert_exporter": "python",
   "pygments_lexer": "ipython3",
   "version": "3.8.12"
  },
  "orig_nbformat": 4
 },
 "nbformat": 4,
 "nbformat_minor": 2
}
