{
 "cells": [
  {
   "cell_type": "code",
   "execution_count": 1,
   "metadata": {},
   "outputs": [],
   "source": [
    "import sys\n",
    "sys.path.append(\"..\")\n",
    "from pathlib import Path\n",
    "\n",
    "import torch\n",
    "from seqeval.metrics import classification_report\n",
    "from seqeval.scheme import IOB2\n",
    "\n",
    "from src.slot.data_manager import SlotDataManager\n",
    "from src.slot.models import SlotTagger"
   ]
  },
  {
   "cell_type": "code",
   "execution_count": 2,
   "metadata": {},
   "outputs": [
    {
     "name": "stderr",
     "output_type": "stream",
     "text": [
      "2022-03-05 06:20:24 | INFO | Vocab loaded from /home/jacky/110-2_ADL/homeworks/hw01/cache/slot/vocab.pkl\n",
      "2022-03-05 06:20:24 | INFO | Tag-2-Index loaded from /home/jacky/110-2_ADL/homeworks/hw01/cache/slot/tag2idx.json\n",
      "2022-03-05 06:20:24 | INFO | Embeddings loaded from /home/jacky/110-2_ADL/homeworks/hw01/cache/slot/embeddings.pt\n"
     ]
    }
   ],
   "source": [
    "data_manager = SlotDataManager(\n",
    "    cache_dir=Path(\"../cache/slot\"),\n",
    "    max_len=128,\n",
    "    batch_size=32,\n",
    "    num_workers=8,\n",
    "    data_dir=Path(\"../data/slot\"),\n",
    "    test_file=Path(\"../data/slot/test.json\")\n",
    ")"
   ]
  },
  {
   "cell_type": "code",
   "execution_count": 3,
   "metadata": {},
   "outputs": [
    {
     "data": {
      "text/plain": [
       "(torch.Size([32, 33]), torch.Size([32]), torch.Size([32, 128]))"
      ]
     },
     "execution_count": 3,
     "metadata": {},
     "output_type": "execute_result"
    }
   ],
   "source": [
    "valid_dataloader = data_manager.get_valid_dataloader()\n",
    "x, length, y = next(iter(valid_dataloader))\n",
    "x.shape, length.shape, y.shape"
   ]
  },
  {
   "cell_type": "code",
   "execution_count": 4,
   "metadata": {},
   "outputs": [
    {
     "data": {
      "text/plain": [
       "SlotTagger(\n",
       "  (embedding): Embedding(4117, 300, padding_idx=0)\n",
       "  (rnn): GRU(300, 512, num_layers=2, dropout=0.2, bidirectional=True)\n",
       "  (fc): Sequential(\n",
       "    (0): Dropout(p=0.2, inplace=False)\n",
       "    (1): Linear(in_features=1024, out_features=1024, bias=True)\n",
       "    (2): PReLU(num_parameters=1)\n",
       "    (3): Dropout(p=0.2, inplace=False)\n",
       "    (4): Linear(in_features=1024, out_features=9, bias=True)\n",
       "  )\n",
       "  (loss): CrossEntropyLoss()\n",
       ")"
      ]
     },
     "execution_count": 4,
     "metadata": {},
     "output_type": "execute_result"
    }
   ],
   "source": [
    "model = SlotTagger.load_from_checkpoint(Path(\"../ckpt/slot/20220303_1645/slot-epoch=12-val_acc=0.97-val_loss=0.12.ckpt\"))\n",
    "model"
   ]
  },
  {
   "cell_type": "code",
   "execution_count": 5,
   "metadata": {},
   "outputs": [],
   "source": [
    "output = model(x, length)\n",
    "flatten_output = torch.cat([\n",
    "    sen_output[:sen_len, :]\n",
    "    for sen_output, sen_len, in zip(output, length)\n",
    "])\n",
    "flatten_y = torch.cat([\n",
    "    sen_tags[:sen_len]\n",
    "    for sen_tags, sen_len, in zip(y, length)\n",
    "])"
   ]
  },
  {
   "cell_type": "code",
   "execution_count": 6,
   "metadata": {},
   "outputs": [
    {
     "name": "stdout",
     "output_type": "stream",
     "text": [
      "Token Accuracy: 0.9765258431434631\n"
     ]
    }
   ],
   "source": [
    "token_acc = (flatten_output.argmax(dim=1) == flatten_y).float().mean()\n",
    "print(f\"Token Accuracy: {token_acc}\")"
   ]
  },
  {
   "cell_type": "code",
   "execution_count": 7,
   "metadata": {},
   "outputs": [
    {
     "name": "stdout",
     "output_type": "stream",
     "text": [
      "Join Accuracy: 0.875\n"
     ]
    }
   ],
   "source": [
    "join_acc = torch.tensor([\n",
    "    torch.all(sen_val[:sen_len].argmax(dim=1) == sen_tags[:sen_len])\n",
    "    for sen_val, sen_tags, sen_len in zip(output, y, length)\n",
    "]).float().mean()\n",
    "print(f\"Join Accuracy: {join_acc}\")"
   ]
  },
  {
   "cell_type": "code",
   "execution_count": 8,
   "metadata": {},
   "outputs": [],
   "source": [
    "clipped_y = [\n",
    "    [data_manager.idx2tag[idx] for idx in sen_tags[:sen_len].tolist()]\n",
    "    for sen_tags, sen_len in zip(y, length)\n",
    "]\n",
    "clipped_pred = [\n",
    "    [data_manager.idx2tag[idx] for idx in sen_val[:sen_len].argmax(dim=1).tolist()]\n",
    "    for sen_val, sen_len in  zip(output, length)\n",
    "]"
   ]
  },
  {
   "cell_type": "code",
   "execution_count": 9,
   "metadata": {},
   "outputs": [
    {
     "name": "stdout",
     "output_type": "stream",
     "text": [
      "              precision    recall  f1-score   support\n",
      "\n",
      "        date       0.71      0.71      0.71         7\n",
      "  first_name       1.00      1.00      1.00         1\n",
      "   last_name       0.00      0.00      0.00         1\n",
      "      people       1.00      0.89      0.94         9\n",
      "        time       0.83      1.00      0.91         5\n",
      "\n",
      "   micro avg       0.86      0.83      0.84        23\n",
      "   macro avg       0.71      0.72      0.71        23\n",
      "weighted avg       0.83      0.83      0.83        23\n",
      "\n"
     ]
    },
    {
     "name": "stderr",
     "output_type": "stream",
     "text": [
      "/home/jacky/.pyenv/versions/3.8.12/envs/adl-hw01/lib/python3.8/site-packages/seqeval/metrics/v1.py:57: UndefinedMetricWarning: Precision and F-score are ill-defined and being set to 0.0 in labels with no predicted samples. Use `zero_division` parameter to control this behavior.\n",
      "  _warn_prf(average, modifier, msg_start, len(result))\n"
     ]
    }
   ],
   "source": [
    "print(classification_report(y_true=clipped_y, y_pred=clipped_pred, scheme=IOB2, mode=\"strict\"))"
   ]
  },
  {
   "cell_type": "code",
   "execution_count": 12,
   "metadata": {},
   "outputs": [
    {
     "data": {
      "text/plain": [
       "Counter({'O': 180,\n",
       "         'B-time': 5,\n",
       "         'B-people': 9,\n",
       "         'B-date': 7,\n",
       "         'I-date': 9,\n",
       "         'B-first_name': 1,\n",
       "         'B-last_name': 1,\n",
       "         'I-people': 1})"
      ]
     },
     "execution_count": 12,
     "metadata": {},
     "output_type": "execute_result"
    }
   ],
   "source": [
    "from collections import Counter\n",
    "Counter(tag for tags in clipped_y for tag in tags)"
   ]
  },
  {
   "cell_type": "code",
   "execution_count": 13,
   "metadata": {},
   "outputs": [
    {
     "data": {
      "text/plain": [
       "Counter({'O': 181,\n",
       "         'B-time': 6,\n",
       "         'B-people': 8,\n",
       "         'B-date': 7,\n",
       "         'I-date': 9,\n",
       "         'B-first_name': 1,\n",
       "         'I-people': 1})"
      ]
     },
     "execution_count": 13,
     "metadata": {},
     "output_type": "execute_result"
    }
   ],
   "source": [
    "Counter(tag for tags in clipped_pred for tag in tags)"
   ]
  },
  {
   "cell_type": "code",
   "execution_count": null,
   "metadata": {},
   "outputs": [],
   "source": []
  }
 ],
 "metadata": {
  "interpreter": {
   "hash": "14e17195916193df421607a98b0ec24e3c430e4b809de709985372f663764d14"
  },
  "kernelspec": {
   "display_name": "Python 3.8.12 64-bit ('adl-hw01')",
   "language": "python",
   "name": "python3"
  },
  "language_info": {
   "codemirror_mode": {
    "name": "ipython",
    "version": 3
   },
   "file_extension": ".py",
   "mimetype": "text/x-python",
   "name": "python",
   "nbconvert_exporter": "python",
   "pygments_lexer": "ipython3",
   "version": "3.8.12"
  },
  "orig_nbformat": 4
 },
 "nbformat": 4,
 "nbformat_minor": 2
}
