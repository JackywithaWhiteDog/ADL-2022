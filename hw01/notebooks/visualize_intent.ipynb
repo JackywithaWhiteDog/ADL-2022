{
 "cells": [
  {
   "cell_type": "code",
   "execution_count": 1,
   "metadata": {},
   "outputs": [],
   "source": [
    "import sys\n",
    "sys.path.append(\"..\")\n",
    "\n",
    "from pathlib import Path\n",
    "from pytorch_lightning.utilities.model_summary import summarize\n",
    "\n",
    "from src.intent.models import IntentClassifier\n",
    "from src.intent.data_manager import IntentDataManager"
   ]
  },
  {
   "cell_type": "code",
   "execution_count": 2,
   "metadata": {},
   "outputs": [
    {
     "name": "stderr",
     "output_type": "stream",
     "text": [
      "2022-03-15 05:22:57 | INFO | Vocab loaded from /home/jacky/110-2_ADL/homeworks/hw01/cache/intent/vocab.pkl\n",
      "2022-03-15 05:22:57 | INFO | Intent-2-Index loaded from /home/jacky/110-2_ADL/homeworks/hw01/cache/intent/intent2idx.json\n",
      "2022-03-15 05:22:57 | INFO | Embeddings loaded from /home/jacky/110-2_ADL/homeworks/hw01/cache/intent/embeddings.pt\n",
      "/home/jacky/.pyenv/versions/3.8.12/envs/adl-hw01/lib/python3.8/site-packages/torch/nn/modules/rnn.py:62: UserWarning: dropout option adds dropout after all but last recurrent layer, so non-zero dropout expects num_layers greater than 1, but got dropout=0.5 and num_layers=1\n",
      "  warnings.warn(\"dropout option adds dropout after all but last \"\n"
     ]
    }
   ],
   "source": [
    "data_manager = IntentDataManager(\n",
    "    cache_dir=Path(\"../cache/intent\"),\n",
    "    max_len=128,\n",
    "    batch_size=32,\n",
    "    num_workers=8,\n",
    "    data_dir=Path(\"../data/intent\"),\n",
    "    test_file=Path(\"../data/intent/test.json\")\n",
    ")\n",
    "ckpt_path = Path(\"../ckpt/intent/20220314_1631/intent-epoch=13-val_acc=0.93-val_loss=0.36.ckpt\")\n",
    "model = IntentClassifier.load_from_checkpoint(ckpt_path)"
   ]
  },
  {
   "cell_type": "code",
   "execution_count": 3,
   "metadata": {},
   "outputs": [],
   "source": [
    "test_dataloader = data_manager.get_test_dataloader()\n",
    "model.example_input_array = next(iter(test_dataloader))"
   ]
  },
  {
   "cell_type": "code",
   "execution_count": 4,
   "metadata": {},
   "outputs": [
    {
     "data": {
      "text/plain": [
       "  | Name      | Type             | Params | In sizes                       | Out sizes                                     \n",
       "---------------------------------------------------------------------------------------------------------------------------------\n",
       "0 | embedding | Embedding        | 1.6 M  | [32, 25]                       | [32, 25, 300]                                 \n",
       "1 | rnn       | GRU              | 330 K  | [[234, 300], [18], [32], [32]] | [[[234, 256], [18], [32], [32]], [2, 32, 128]]\n",
       "2 | fc        | Sequential       | 104 K  | [32, 256]                      | [32, 150]                                     \n",
       "3 | fc.0      | Dropout          | 0      | [32, 256]                      | [32, 256]                                     \n",
       "4 | fc.1      | Linear           | 65.8 K | [32, 256]                      | [32, 256]                                     \n",
       "5 | fc.2      | ELU              | 0      | [32, 256]                      | [32, 256]                                     \n",
       "6 | fc.3      | Dropout          | 0      | [32, 256]                      | [32, 256]                                     \n",
       "7 | fc.4      | Linear           | 38.6 K | [32, 256]                      | [32, 150]                                     \n",
       "8 | loss      | CrossEntropyLoss | 0      | ?                              | ?                                             \n",
       "---------------------------------------------------------------------------------------------------------------------------------\n",
       "434 K     Trainable params\n",
       "1.6 M     Non-trainable params\n",
       "2.1 M     Total params\n",
       "8.320     Total estimated model params size (MB)"
      ]
     },
     "execution_count": 4,
     "metadata": {},
     "output_type": "execute_result"
    }
   ],
   "source": [
    "summarize(model, max_depth=-1)"
   ]
  },
  {
   "cell_type": "code",
   "execution_count": null,
   "metadata": {},
   "outputs": [],
   "source": []
  }
 ],
 "metadata": {
  "interpreter": {
   "hash": "14e17195916193df421607a98b0ec24e3c430e4b809de709985372f663764d14"
  },
  "kernelspec": {
   "display_name": "Python 3.8.12 64-bit ('adl-hw01')",
   "language": "python",
   "name": "python3"
  },
  "language_info": {
   "codemirror_mode": {
    "name": "ipython",
    "version": 3
   },
   "file_extension": ".py",
   "mimetype": "text/x-python",
   "name": "python",
   "nbconvert_exporter": "python",
   "pygments_lexer": "ipython3",
   "version": "3.8.12"
  },
  "orig_nbformat": 4
 },
 "nbformat": 4,
 "nbformat_minor": 2
}
