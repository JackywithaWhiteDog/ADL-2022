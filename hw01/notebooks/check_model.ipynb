{
 "cells": [
  {
   "cell_type": "code",
   "execution_count": 1,
   "metadata": {},
   "outputs": [],
   "source": [
    "import sys\n",
    "sys.path.append(\"..\")\n",
    "\n",
    "from pathlib import Path\n",
    "from pytorch_lightning.utilities.model_summary import summarize\n",
    "\n",
    "from src.intent.models import IntentClassifier\n",
    "from src.intent.data_manager import IntentDataManager"
   ]
  },
  {
   "cell_type": "code",
   "execution_count": 18,
   "metadata": {},
   "outputs": [
    {
     "name": "stderr",
     "output_type": "stream",
     "text": [
      "2022-03-18 13:33:21 | INFO | Vocab loaded from /home/jacky/110-2_ADL/homeworks/hw01/cache/intent/vocab.pkl\n",
      "2022-03-18 13:33:21 | INFO | Intent-2-Index loaded from /home/jacky/110-2_ADL/homeworks/hw01/cache/intent/intent2idx.json\n",
      "2022-03-18 13:33:21 | INFO | Embeddings loaded from /home/jacky/110-2_ADL/homeworks/hw01/cache/intent/embeddings.pt\n"
     ]
    }
   ],
   "source": [
    "data_manager = IntentDataManager(\n",
    "    cache_dir=Path(\"../cache/intent\"),\n",
    "    max_len=128,\n",
    "    batch_size=32,\n",
    "    num_workers=8,\n",
    "    data_dir=Path(\"../data/intent\"),\n",
    "    test_file=Path(\"../data/intent/test.json\")\n",
    ")\n",
    "model = IntentClassifier(\n",
    "    embeddings=data_manager.embeddings,\n",
    "    hidden_size=108,\n",
    "    num_layers=1,\n",
    "    dropout=.5,\n",
    "    bidirectional=True,\n",
    "    num_class=data_manager.num_class,\n",
    "    lr=1e-3,\n",
    "    weight_decay=0\n",
    ")"
   ]
  },
  {
   "cell_type": "code",
   "execution_count": 19,
   "metadata": {},
   "outputs": [
    {
     "data": {
      "text/plain": [
       "  | Name      | Type             | Params\n",
       "-----------------------------------------------\n",
       "0 | embedding | Embedding        | 1.6 M \n",
       "1 | rnn       | LSTM             | 354 K \n",
       "2 | fc        | Sequential       | 79.4 K\n",
       "3 | loss      | CrossEntropyLoss | 0     \n",
       "-----------------------------------------------\n",
       "433 K     Trainable params\n",
       "1.6 M     Non-trainable params\n",
       "2.1 M     Total params\n",
       "8.317     Total estimated model params size (MB)"
      ]
     },
     "execution_count": 19,
     "metadata": {},
     "output_type": "execute_result"
    }
   ],
   "source": [
    "summarize(model, max_depth=1)"
   ]
  },
  {
   "cell_type": "markdown",
   "metadata": {},
   "source": [
    "hidden_size = 128\n",
    "\n",
    "```text\n",
    "  | Name      | Type             | Params\n",
    "-----------------------------------------------\n",
    "0 | embedding | Embedding        | 1.6 M \n",
    "1 | rnn       | GRU              | 330 K \n",
    "2 | fc        | Sequential       | 104 K \n",
    "3 | loss      | CrossEntropyLoss | 0     \n",
    "-----------------------------------------------\n",
    "434 K     Trainable params\n",
    "1.6 M     Non-trainable params\n",
    "2.1 M     Total params\n",
    "8.320     Total estimated model params size (MB)\n",
    "```"
   ]
  },
  {
   "cell_type": "markdown",
   "metadata": {},
   "source": [
    "hidden_size = 204\n",
    "\n",
    "```text\n",
    "2022-03-18 12:38:08 | INFO | Vocab loaded from /home/jacky/110-2_ADL/homeworks/hw01/cache/intent/vocab.pkl\n",
    "2022-03-18 12:38:08 | INFO | Intent-2-Index loaded from /home/jacky/110-2_ADL/homeworks/hw01/cache/intent/intent2idx.json\n",
    "2022-03-18 12:38:08 | INFO | Embeddings loaded from /home/jacky/110-2_ADL/homeworks/hw01/cache/intent/embeddings.pt\n",
    "  | Name      | Type             | Params\n",
    "-----------------------------------------------\n",
    "0 | embedding | Embedding        | 1.6 M \n",
    "1 | rnn       | RNN              | 206 K \n",
    "2 | fc        | Sequential       | 228 K \n",
    "3 | loss      | CrossEntropyLoss | 0     \n",
    "-----------------------------------------------\n",
    "434 K     Trainable params\n",
    "1.6 M     Non-trainable params\n",
    "2.1 M     Total params\n",
    "8.321     Total estimated model params size (MB)\n",
    "```"
   ]
  },
  {
   "cell_type": "markdown",
   "metadata": {},
   "source": [
    "hidden_size = 108\n",
    "\n",
    "```text\n",
    "  | Name      | Type             | Params\n",
    "-----------------------------------------------\n",
    "0 | embedding | Embedding        | 1.6 M \n",
    "1 | rnn       | LSTM             | 354 K \n",
    "2 | fc        | Sequential       | 79.4 K\n",
    "3 | loss      | CrossEntropyLoss | 0     \n",
    "-----------------------------------------------\n",
    "433 K     Trainable params\n",
    "1.6 M     Non-trainable params\n",
    "2.1 M     Total params\n",
    "8.317     Total estimated model params size (MB)\n",
    "```"
   ]
  },
  {
   "cell_type": "markdown",
   "metadata": {},
   "source": []
  }
 ],
 "metadata": {
  "interpreter": {
   "hash": "14e17195916193df421607a98b0ec24e3c430e4b809de709985372f663764d14"
  },
  "kernelspec": {
   "display_name": "Python 3.8.12 64-bit ('adl-hw01')",
   "language": "python",
   "name": "python3"
  },
  "language_info": {
   "codemirror_mode": {
    "name": "ipython",
    "version": 3
   },
   "file_extension": ".py",
   "mimetype": "text/x-python",
   "name": "python",
   "nbconvert_exporter": "python",
   "pygments_lexer": "ipython3",
   "version": "3.8.12"
  },
  "orig_nbformat": 4
 },
 "nbformat": 4,
 "nbformat_minor": 2
}
