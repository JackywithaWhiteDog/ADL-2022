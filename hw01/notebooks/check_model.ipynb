{
 "cells": [
  {
   "cell_type": "code",
   "execution_count": 1,
   "metadata": {},
   "outputs": [],
   "source": [
    "import sys\n",
    "sys.path.append(\"..\")\n",
    "\n",
    "import json\n",
    "from pathlib import Path\n",
    "import pickle\n",
    "\n",
    "import torch\n",
    "from torch.utils import data\n",
    "\n",
    "from src.intent.models import IntentClassifier\n",
    "from src.intent.data import IntentDataset"
   ]
  },
  {
   "cell_type": "code",
   "execution_count": 2,
   "metadata": {},
   "outputs": [],
   "source": [
    "from types import SimpleNamespace\n",
    "params = {\n",
    "    'data_dir': Path('../data/intent/'),\n",
    "    'cache_dir': Path('../cache/intent/'),\n",
    "    'hidden_size': 64,\n",
    "    'num_layers': 2,\n",
    "    'dropout': .1,\n",
    "    'bidirectional': True,\n",
    "    'num_class': 150,\n",
    "    'lr': 1e-3,\n",
    "    'max_len': 64,\n",
    "    'batch_size': 128,\n",
    "    'num_workers': 0\n",
    "}\n",
    "args = SimpleNamespace()\n",
    "for k, v in params.items():\n",
    "    setattr(args, k, v)"
   ]
  },
  {
   "cell_type": "code",
   "execution_count": 4,
   "metadata": {},
   "outputs": [],
   "source": [
    "def load_data(data_path):\n",
    "    data = json.loads(data_path.read_text())\n",
    "    texts = [d[\"text\"].split() for d in data]\n",
    "    intents = [d[\"intent\"] for d in data]\n",
    "    return texts, intents\n",
    "\n",
    "# Load data\n",
    "train_x, train_y = load_data(args.data_dir / \"train.json\")\n",
    "valid_x, valid_y = load_data(args.data_dir / \"eval.json\")\n",
    "\n",
    "# Load vocab\n",
    "vocab_path = args.cache_dir / \"vocab.pkl\"\n",
    "with open(vocab_path, \"rb\") as f:\n",
    "    vocab = pickle.load(f)\n",
    "max_len = args.max_len if args.max_len > 0 else None\n",
    "train_x = torch.tensor(vocab.encode_batch(train_x, max_len=max_len))\n",
    "valid_x = torch.tensor(vocab.encode_batch(valid_x, max_len=max_len))\n",
    "\n",
    "# Load intent2idx\n",
    "intent_idx_path = args.cache_dir / \"intent2idx.json\"\n",
    "intent2idx = json.loads(intent_idx_path.read_text())\n",
    "train_y = torch.tensor([intent2idx[y] for y in train_y])\n",
    "valid_y = torch.tensor([intent2idx[y] for y in valid_y])\n",
    "\n",
    "train_dataset = IntentDataset(train_x, train_y)\n",
    "valid_dataset = IntentDataset(valid_x, valid_y)\n",
    "\n",
    "train_dataloader = data.DataLoader(\n",
    "    dataset=train_dataset,\n",
    "    batch_size=args.batch_size,\n",
    "    shuffle=True,\n",
    "    num_workers=args.num_workers\n",
    ")\n",
    "valid_dataloader = data.DataLoader(\n",
    "    dataset=valid_dataset,\n",
    "    batch_size=args.batch_size,\n",
    "    shuffle=False,\n",
    "    num_workers=args.num_workers\n",
    ")\n",
    "\n",
    "# Load embeddings\n",
    "embeddings_path = args.cache_dir / \"embeddings.pt\"\n",
    "embeddings = torch.load(embeddings_path)\n",
    "\n",
    "model = IntentClassifier(\n",
    "    embeddings=embeddings,\n",
    "    hidden_size=args.hidden_size,\n",
    "    num_layers=args.num_layers,\n",
    "    dropout=args.dropout,\n",
    "    bidirectional=args.bidirectional,\n",
    "    num_class=len(intent2idx),\n",
    "    lr=args.lr\n",
    ")\n"
   ]
  },
  {
   "cell_type": "code",
   "execution_count": 5,
   "metadata": {},
   "outputs": [
    {
     "data": {
      "text/plain": [
       "(torch.Size([128, 28]), torch.Size([128]))"
      ]
     },
     "execution_count": 5,
     "metadata": {},
     "output_type": "execute_result"
    }
   ],
   "source": [
    "x, y = next(iter(train_dataloader))\n",
    "x.shape, y.shape"
   ]
  },
  {
   "cell_type": "code",
   "execution_count": 57,
   "metadata": {},
   "outputs": [
    {
     "data": {
      "text/plain": [
       "<torch.autograd.grad_mode.set_grad_enabled at 0x7fdf19c4c100>"
      ]
     },
     "execution_count": 57,
     "metadata": {},
     "output_type": "execute_result"
    }
   ],
   "source": [
    "model.train()\n",
    "torch.set_grad_enabled(True)"
   ]
  },
  {
   "cell_type": "code",
   "execution_count": 58,
   "metadata": {},
   "outputs": [
    {
     "data": {
      "text/plain": [
       "torch.Size([128, 28, 300])"
      ]
     },
     "execution_count": 58,
     "metadata": {},
     "output_type": "execute_result"
    }
   ],
   "source": [
    "embeddings = model.embedding(x)\n",
    "embeddings.shape"
   ]
  },
  {
   "cell_type": "code",
   "execution_count": 59,
   "metadata": {},
   "outputs": [
    {
     "data": {
      "text/plain": [
       "torch.Size([128, 28, 128])"
      ]
     },
     "execution_count": 59,
     "metadata": {},
     "output_type": "execute_result"
    }
   ],
   "source": [
    "output_features, _ = model.rnn(embeddings)\n",
    "output_features.shape"
   ]
  },
  {
   "cell_type": "code",
   "execution_count": 60,
   "metadata": {},
   "outputs": [
    {
     "data": {
      "text/plain": [
       "torch.Size([128, 128])"
      ]
     },
     "execution_count": 60,
     "metadata": {},
     "output_type": "execute_result"
    }
   ],
   "source": [
    "last_features = output_features[:, -1, :]\n",
    "last_features.shape"
   ]
  },
  {
   "cell_type": "code",
   "execution_count": 61,
   "metadata": {},
   "outputs": [
    {
     "data": {
      "text/plain": [
       "torch.Size([128, 150])"
      ]
     },
     "execution_count": 61,
     "metadata": {},
     "output_type": "execute_result"
    }
   ],
   "source": [
    "output = model.fc(last_features)\n",
    "output.shape"
   ]
  },
  {
   "cell_type": "code",
   "execution_count": 62,
   "metadata": {},
   "outputs": [
    {
     "data": {
      "text/plain": [
       "tensor(0.0078)"
      ]
     },
     "execution_count": 62,
     "metadata": {},
     "output_type": "execute_result"
    }
   ],
   "source": [
    "(output.argmax(dim=1)==y).float().mean()"
   ]
  },
  {
   "cell_type": "code",
   "execution_count": 63,
   "metadata": {},
   "outputs": [
    {
     "data": {
      "text/plain": [
       "tensor(5.0349, grad_fn=<NllLossBackward0>)"
      ]
     },
     "execution_count": 63,
     "metadata": {},
     "output_type": "execute_result"
    }
   ],
   "source": [
    "loss = model.loss(input=output, target=y)\n",
    "loss"
   ]
  },
  {
   "cell_type": "code",
   "execution_count": 64,
   "metadata": {},
   "outputs": [],
   "source": [
    "# for n, p in model.named_parameters():\n",
    "#     print(n)"
   ]
  },
  {
   "cell_type": "code",
   "execution_count": 65,
   "metadata": {},
   "outputs": [
    {
     "data": {
      "text/plain": [
       "tensor([-0.1062,  0.0032,  0.0097, -0.0351, -0.0981, -0.0112, -0.0721, -0.0804,\n",
       "         0.0920,  0.0230], grad_fn=<SliceBackward0>)"
      ]
     },
     "execution_count": 65,
     "metadata": {},
     "output_type": "execute_result"
    }
   ],
   "source": [
    "model.get_parameter('rnn.weight_ih_l0')[0,:10]"
   ]
  },
  {
   "cell_type": "code",
   "execution_count": 66,
   "metadata": {},
   "outputs": [],
   "source": [
    "optimizer = model.configure_optimizers()\n",
    "optimizer.zero_grad()\n",
    "\n",
    "loss.backward()\n",
    "\n",
    "optimizer.step()"
   ]
  },
  {
   "cell_type": "code",
   "execution_count": 67,
   "metadata": {},
   "outputs": [
    {
     "data": {
      "text/plain": [
       "tensor([-0.1052,  0.0022,  0.0087, -0.0361, -0.0971, -0.0102, -0.0711, -0.0794,\n",
       "         0.0910,  0.0240], grad_fn=<SliceBackward0>)"
      ]
     },
     "execution_count": 67,
     "metadata": {},
     "output_type": "execute_result"
    }
   ],
   "source": [
    "model.get_parameter('rnn.weight_ih_l0')[0,:10]"
   ]
  },
  {
   "cell_type": "code",
   "execution_count": null,
   "metadata": {},
   "outputs": [],
   "source": []
  }
 ],
 "metadata": {
  "interpreter": {
   "hash": "6055dce1cb421d37ec1359856e7d0e8593e12bfb98ad46bbc5a2ae5cec23f9b8"
  },
  "kernelspec": {
   "display_name": "Python 3.8.12 64-bit ('adl-hw01')",
   "language": "python",
   "name": "python3"
  },
  "language_info": {
   "codemirror_mode": {
    "name": "ipython",
    "version": 3
   },
   "file_extension": ".py",
   "mimetype": "text/x-python",
   "name": "python",
   "nbconvert_exporter": "python",
   "pygments_lexer": "ipython3",
   "version": "3.8.12"
  },
  "orig_nbformat": 4
 },
 "nbformat": 4,
 "nbformat_minor": 2
}
