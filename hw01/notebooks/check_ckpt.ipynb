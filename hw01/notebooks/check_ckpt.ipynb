{
 "cells": [
  {
   "cell_type": "code",
   "execution_count": 5,
   "metadata": {},
   "outputs": [],
   "source": [
    "import sys\n",
    "sys.path.append(\"..\")\n",
    "\n",
    "import torch\n",
    "\n",
    "from src.intent.models import IntentClassifier"
   ]
  },
  {
   "cell_type": "code",
   "execution_count": 9,
   "metadata": {},
   "outputs": [],
   "source": [
    "ckpt_path = \"../ckpt/intent/20220226_1801/intent-epoch=04-val_acc=0.88-val_loss=0.69.ckpt\"\n",
    "# IntentClassifier.load_from_checkpoint(ckpt_path)"
   ]
  },
  {
   "cell_type": "code",
   "execution_count": 12,
   "metadata": {},
   "outputs": [
    {
     "data": {
      "text/plain": [
       "dict_keys(['epoch', 'global_step', 'pytorch-lightning_version', 'state_dict', 'callbacks', 'optimizer_states', 'lr_schedulers', 'hparams_name', 'hyper_parameters'])"
      ]
     },
     "execution_count": 12,
     "metadata": {},
     "output_type": "execute_result"
    }
   ],
   "source": [
    "ckpt = torch.load(ckpt_path)\n",
    "ckpt.keys()"
   ]
  },
  {
   "cell_type": "code",
   "execution_count": 13,
   "metadata": {},
   "outputs": [
    {
     "name": "stderr",
     "output_type": "stream",
     "text": [
      "2022-02-26 11:20:07 | INFO | Bidirectional: True\n"
     ]
    },
    {
     "data": {
      "text/plain": [
       "IntentClassifier(\n",
       "  (embedding): Embedding(5963, 300, padding_idx=0)\n",
       "  (rnn): GRU(300, 128, num_layers=2, bidirectional=True)\n",
       "  (fc): Sequential(\n",
       "    (0): Dropout(p=0, inplace=False)\n",
       "    (1): Linear(in_features=256, out_features=256, bias=True)\n",
       "    (2): PReLU(num_parameters=1)\n",
       "    (3): Dropout(p=0, inplace=False)\n",
       "    (4): Linear(in_features=256, out_features=150, bias=True)\n",
       "  )\n",
       "  (loss): CrossEntropyLoss()\n",
       ")"
      ]
     },
     "execution_count": 13,
     "metadata": {},
     "output_type": "execute_result"
    }
   ],
   "source": [
    "IntentClassifier.load_from_checkpoint(ckpt_path)"
   ]
  },
  {
   "cell_type": "code",
   "execution_count": null,
   "metadata": {},
   "outputs": [],
   "source": []
  }
 ],
 "metadata": {
  "interpreter": {
   "hash": "14e17195916193df421607a98b0ec24e3c430e4b809de709985372f663764d14"
  },
  "kernelspec": {
   "display_name": "Python 3.8.12 64-bit ('adl-hw01')",
   "language": "python",
   "name": "python3"
  },
  "language_info": {
   "codemirror_mode": {
    "name": "ipython",
    "version": 3
   },
   "file_extension": ".py",
   "mimetype": "text/x-python",
   "name": "python",
   "nbconvert_exporter": "python",
   "pygments_lexer": "ipython3",
   "version": "3.8.12"
  },
  "orig_nbformat": 4
 },
 "nbformat": 4,
 "nbformat_minor": 2
}
