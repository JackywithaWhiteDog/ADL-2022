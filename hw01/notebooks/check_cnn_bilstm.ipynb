{
 "cells": [
  {
   "cell_type": "code",
   "execution_count": 1,
   "metadata": {},
   "outputs": [],
   "source": [
    "import sys\n",
    "sys.path.append(\"..\")\n",
    "\n",
    "from pathlib import Path\n",
    "\n",
    "from pytorch_lightning.utilities.model_summary import summarize\n",
    "import torch\n",
    "from torch import nn\n",
    "\n",
    "from src.intent.models import IntentClassifier\n",
    "from src.intent.data_manager import IntentDataManager"
   ]
  },
  {
   "cell_type": "code",
   "execution_count": 2,
   "metadata": {},
   "outputs": [
    {
     "name": "stderr",
     "output_type": "stream",
     "text": [
      "2022-03-19 07:49:28 | INFO | Vocab loaded from /home/jacky/110-2_ADL/homeworks/hw01/cache/intent/vocab.pkl\n",
      "2022-03-19 07:49:28 | INFO | Intent-2-Index loaded from /home/jacky/110-2_ADL/homeworks/hw01/cache/intent/intent2idx.json\n",
      "2022-03-19 07:49:28 | INFO | Embeddings loaded from /home/jacky/110-2_ADL/homeworks/hw01/cache/intent/embeddings.pt\n",
      "/home/jacky/.pyenv/versions/3.8.12/envs/adl-hw01/lib/python3.8/site-packages/torch/nn/modules/rnn.py:62: UserWarning: dropout option adds dropout after all but last recurrent layer, so non-zero dropout expects num_layers greater than 1, but got dropout=0.5 and num_layers=1\n",
      "  warnings.warn(\"dropout option adds dropout after all but last \"\n"
     ]
    }
   ],
   "source": [
    "data_manager = IntentDataManager(\n",
    "    cache_dir=Path(\"../cache/intent\"),\n",
    "    max_len=128,\n",
    "    batch_size=32,\n",
    "    num_workers=8,\n",
    "    data_dir=Path(\"../data/intent\"),\n",
    "    test_file=Path(\"../data/intent/test.json\")\n",
    ")\n",
    "model = IntentClassifier(\n",
    "    embeddings=data_manager.embeddings,\n",
    "    hidden_size=108,\n",
    "    num_layers=1,\n",
    "    dropout=.5,\n",
    "    bidirectional=True,\n",
    "    num_class=data_manager.num_class,\n",
    "    lr=1e-3,\n",
    "    weight_decay=0\n",
    ")"
   ]
  },
  {
   "cell_type": "code",
   "execution_count": 3,
   "metadata": {},
   "outputs": [
    {
     "data": {
      "text/plain": [
       "(torch.Size([32, 24]), torch.Size([32]), torch.Size([32]))"
      ]
     },
     "execution_count": 3,
     "metadata": {},
     "output_type": "execute_result"
    }
   ],
   "source": [
    "valid_dataloader = data_manager.get_valid_dataloader()\n",
    "x, length, y = next(iter(valid_dataloader))\n",
    "x.shape, length.shape, y.shape"
   ]
  },
  {
   "cell_type": "code",
   "execution_count": 4,
   "metadata": {},
   "outputs": [
    {
     "data": {
      "text/plain": [
       "(torch.Size([32, 24, 300]), torch.Size([32, 300, 24]))"
      ]
     },
     "execution_count": 4,
     "metadata": {},
     "output_type": "execute_result"
    }
   ],
   "source": [
    "embeddings = model.embedding(x)\n",
    "embeddings.shape, embeddings.transpose(1,2).shape"
   ]
  },
  {
   "cell_type": "code",
   "execution_count": 5,
   "metadata": {},
   "outputs": [],
   "source": [
    "conv = nn.Sequential(\n",
    "    nn.Conv1d(\n",
    "        in_channels=model.embedding.embedding_dim,\n",
    "        out_channels=64,\n",
    "        kernel_size=5,\n",
    "    ),\n",
    "    nn.LeakyReLU(),\n",
    "    nn.MaxPool1d(kernel_size=4)\n",
    ")"
   ]
  },
  {
   "cell_type": "code",
   "execution_count": 6,
   "metadata": {},
   "outputs": [
    {
     "data": {
      "text/plain": [
       "torch.Size([32, 64, 5])"
      ]
     },
     "execution_count": 6,
     "metadata": {},
     "output_type": "execute_result"
    }
   ],
   "source": [
    "conv(embeddings.transpose(1,2)).shape"
   ]
  },
  {
   "cell_type": "code",
   "execution_count": 195,
   "metadata": {},
   "outputs": [],
   "source": [
    "from src.intent.models import IntentClassifier_CNN_BiLSTM\n",
    "\n",
    "model_cnn_bilstm = IntentClassifier_CNN_BiLSTM(\n",
    "    cnn_out_channels=64,\n",
    "    cnn_kernel_size=1,\n",
    "    pool_size=4,\n",
    "    embeddings=data_manager.embeddings,\n",
    "    hidden_size=155,\n",
    "    num_layers=1,\n",
    "    dropout=.5,\n",
    "    bidirectional=True,\n",
    "    num_class=data_manager.num_class,\n",
    "    lr=1e-3,\n",
    "    weight_decay=0\n",
    ")"
   ]
  },
  {
   "cell_type": "code",
   "execution_count": 196,
   "metadata": {},
   "outputs": [
    {
     "data": {
      "text/plain": [
       "  | Name      | Type             | Params\n",
       "-----------------------------------------------\n",
       "0 | embedding | Embedding        | 1.6 M \n",
       "1 | rnn       | LSTM             | 274 K \n",
       "2 | fc        | Sequential       | 143 K \n",
       "3 | loss      | CrossEntropyLoss | 0     \n",
       "4 | cnn       | Sequential       | 19.3 K\n",
       "-----------------------------------------------\n",
       "436 K     Trainable params\n",
       "1.6 M     Non-trainable params\n",
       "2.1 M     Total params\n",
       "8.327     Total estimated model params size (MB)"
      ]
     },
     "execution_count": 196,
     "metadata": {},
     "output_type": "execute_result"
    }
   ],
   "source": [
    "summarize(model_cnn_bilstm)"
   ]
  },
  {
   "cell_type": "code",
   "execution_count": 38,
   "metadata": {},
   "outputs": [
    {
     "data": {
      "text/plain": [
       "torch.Size([32, 150])"
      ]
     },
     "execution_count": 38,
     "metadata": {},
     "output_type": "execute_result"
    }
   ],
   "source": [
    "model_cnn_bilstm(x, length).shape"
   ]
  },
  {
   "cell_type": "markdown",
   "metadata": {},
   "source": []
  }
 ],
 "metadata": {
  "interpreter": {
   "hash": "14e17195916193df421607a98b0ec24e3c430e4b809de709985372f663764d14"
  },
  "kernelspec": {
   "display_name": "Python 3.8.12 64-bit ('adl-hw01')",
   "language": "python",
   "name": "python3"
  },
  "language_info": {
   "codemirror_mode": {
    "name": "ipython",
    "version": 3
   },
   "file_extension": ".py",
   "mimetype": "text/x-python",
   "name": "python",
   "nbconvert_exporter": "python",
   "pygments_lexer": "ipython3",
   "version": "3.8.12"
  },
  "orig_nbformat": 4
 },
 "nbformat": 4,
 "nbformat_minor": 2
}
