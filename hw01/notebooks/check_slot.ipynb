{
 "cells": [
  {
   "cell_type": "code",
   "execution_count": 47,
   "metadata": {},
   "outputs": [],
   "source": [
    "import sys\n",
    "sys.path.append(\"..\")\n",
    "from pathlib import Path\n",
    "\n",
    "from src.slot.data_manager import SlotDataManager"
   ]
  },
  {
   "cell_type": "code",
   "execution_count": 48,
   "metadata": {},
   "outputs": [
    {
     "name": "stderr",
     "output_type": "stream",
     "text": [
      "2022-03-03 08:35:53 | INFO | Vocab loaded from /home/jacky/110-2_ADL/homeworks/hw01/cache/slot/vocab.pkl\n",
      "2022-03-03 08:35:53 | INFO | Tag-2-Index loaded from /home/jacky/110-2_ADL/homeworks/hw01/cache/slot/tag2idx.json\n",
      "2022-03-03 08:35:53 | INFO | Embeddings loaded from /home/jacky/110-2_ADL/homeworks/hw01/cache/slot/embeddings.pt\n"
     ]
    }
   ],
   "source": [
    "data_manager = SlotDataManager(\n",
    "    cache_dir=Path(\"../cache/slot\"),\n",
    "    max_len=128,\n",
    "    batch_size=32,\n",
    "    num_workers=8,\n",
    "    data_dir=Path(\"../data/slot\"),\n",
    "    test_file=Path(\"../data/slot/test.json\")\n",
    ")"
   ]
  },
  {
   "cell_type": "code",
   "execution_count": 49,
   "metadata": {},
   "outputs": [
    {
     "data": {
      "text/plain": [
       "<torch.utils.data.dataloader.DataLoader at 0x7f879561aeb0>"
      ]
     },
     "execution_count": 49,
     "metadata": {},
     "output_type": "execute_result"
    }
   ],
   "source": [
    "valid_dataloader = data_manager.get_valid_dataloader()\n",
    "valid_dataloader"
   ]
  },
  {
   "cell_type": "code",
   "execution_count": 50,
   "metadata": {},
   "outputs": [
    {
     "data": {
      "text/plain": [
       "(torch.Size([32, 33]), torch.Size([32]), torch.Size([32, 128]))"
      ]
     },
     "execution_count": 50,
     "metadata": {},
     "output_type": "execute_result"
    }
   ],
   "source": [
    "x, length, y = next(iter(valid_dataloader))\n",
    "x.shape, length.shape, y.shape"
   ]
  },
  {
   "cell_type": "code",
   "execution_count": 51,
   "metadata": {},
   "outputs": [
    {
     "data": {
      "text/plain": [
       "SlotTagger(\n",
       "  (embedding): Embedding(4117, 300, padding_idx=0)\n",
       "  (rnn): GRU(300, 128, num_layers=2, dropout=0.2, bidirectional=True)\n",
       "  (fc): Sequential(\n",
       "    (0): Dropout(p=0.2, inplace=False)\n",
       "    (1): Linear(in_features=256, out_features=256, bias=True)\n",
       "    (2): PReLU(num_parameters=1)\n",
       "    (3): Dropout(p=0.2, inplace=False)\n",
       "    (4): Linear(in_features=256, out_features=9, bias=True)\n",
       "  )\n",
       "  (loss): CrossEntropyLoss()\n",
       ")"
      ]
     },
     "execution_count": 51,
     "metadata": {},
     "output_type": "execute_result"
    }
   ],
   "source": [
    "from src.slot.models import SlotTagger\n",
    "\n",
    "model = SlotTagger(\n",
    "    embeddings=data_manager.embeddings,\n",
    "    hidden_size=128,\n",
    "    num_layers=2,\n",
    "    dropout=.2,\n",
    "    bidirectional=True,\n",
    "    num_class=data_manager.num_class,\n",
    "    lr=1e-3,\n",
    "    weight_decay=1e-5\n",
    ")\n",
    "model"
   ]
  },
  {
   "cell_type": "code",
   "execution_count": 52,
   "metadata": {},
   "outputs": [
    {
     "data": {
      "text/plain": [
       "torch.Size([32, 33, 300])"
      ]
     },
     "execution_count": 52,
     "metadata": {},
     "output_type": "execute_result"
    }
   ],
   "source": [
    "embeddings = model.embedding(x)\n",
    "embeddings.shape"
   ]
  },
  {
   "cell_type": "code",
   "execution_count": 53,
   "metadata": {},
   "outputs": [
    {
     "data": {
      "text/plain": [
       "torch.Size([32, 18, 256])"
      ]
     },
     "execution_count": 53,
     "metadata": {},
     "output_type": "execute_result"
    }
   ],
   "source": [
    "from torch.nn.utils.rnn import pack_padded_sequence, pad_packed_sequence\n",
    "\n",
    "packed_features = pack_padded_sequence(\n",
    "    input=embeddings,\n",
    "    lengths=length.cpu(),\n",
    "    batch_first=True,\n",
    "    enforce_sorted=False\n",
    ")\n",
    "packed_output_features, _ = model.rnn(packed_features)\n",
    "output_features, _ = pad_packed_sequence(\n",
    "    sequence=packed_output_features,\n",
    "    batch_first=True\n",
    ")\n",
    "output_features.shape"
   ]
  },
  {
   "cell_type": "code",
   "execution_count": 54,
   "metadata": {},
   "outputs": [
    {
     "data": {
      "text/plain": [
       "torch.Size([576, 256])"
      ]
     },
     "execution_count": 54,
     "metadata": {},
     "output_type": "execute_result"
    }
   ],
   "source": [
    "flatten_features = output_features.view(-1, 128*2)\n",
    "flatten_features.shape"
   ]
  },
  {
   "cell_type": "code",
   "execution_count": 55,
   "metadata": {},
   "outputs": [
    {
     "data": {
      "text/plain": [
       "torch.Size([32, 18, 9])"
      ]
     },
     "execution_count": 55,
     "metadata": {},
     "output_type": "execute_result"
    }
   ],
   "source": [
    "output = model.fc(flatten_features).view(output_features.shape[0], output_features.shape[1], -1)\n",
    "output.shape"
   ]
  },
  {
   "cell_type": "code",
   "execution_count": 56,
   "metadata": {},
   "outputs": [
    {
     "data": {
      "text/plain": [
       "torch.Size([213, 9])"
      ]
     },
     "execution_count": 56,
     "metadata": {},
     "output_type": "execute_result"
    }
   ],
   "source": [
    "import torch\n",
    "flatten_output = torch.cat([\n",
    "    sen_output[:sen_len, :]\n",
    "    for sen_output, sen_len, in zip(output, length)\n",
    "])\n",
    "flatten_output.shape"
   ]
  },
  {
   "cell_type": "code",
   "execution_count": 57,
   "metadata": {},
   "outputs": [
    {
     "data": {
      "text/plain": [
       "torch.Size([213])"
      ]
     },
     "execution_count": 57,
     "metadata": {},
     "output_type": "execute_result"
    }
   ],
   "source": [
    "flatten_y = torch.cat([\n",
    "    sen_tags[:sen_len]\n",
    "    for sen_tags, sen_len, in zip(y, length)\n",
    "])\n",
    "flatten_y.shape"
   ]
  },
  {
   "cell_type": "code",
   "execution_count": 58,
   "metadata": {},
   "outputs": [
    {
     "data": {
      "text/plain": [
       "tensor(2.1592, grad_fn=<NllLossBackward0>)"
      ]
     },
     "execution_count": 58,
     "metadata": {},
     "output_type": "execute_result"
    }
   ],
   "source": [
    "model.loss(input=flatten_output, target=flatten_y)"
   ]
  },
  {
   "cell_type": "code",
   "execution_count": 59,
   "metadata": {},
   "outputs": [
    {
     "data": {
      "text/plain": [
       "tensor([6, 2, 2, 2, 6])"
      ]
     },
     "execution_count": 59,
     "metadata": {},
     "output_type": "execute_result"
    }
   ],
   "source": [
    "output[0][:length[0]].argmax(dim=1)"
   ]
  },
  {
   "cell_type": "code",
   "execution_count": 60,
   "metadata": {},
   "outputs": [
    {
     "data": {
      "text/plain": [
       "32"
      ]
     },
     "execution_count": 60,
     "metadata": {},
     "output_type": "execute_result"
    }
   ],
   "source": [
    "pred = [\n",
    "    sen_val[:sen_len].argmax(dim=1)\n",
    "    for sen_val, sen_len in zip(output, length)\n",
    "]\n",
    "len(pred)"
   ]
  },
  {
   "cell_type": "code",
   "execution_count": 61,
   "metadata": {},
   "outputs": [
    {
     "data": {
      "text/plain": [
       "[tensor([6, 2, 2, 2, 6]),\n",
       " tensor([0, 2]),\n",
       " tensor([6, 7, 8]),\n",
       " tensor([4, 4, 6, 6, 7, 4]),\n",
       " tensor([7, 2, 4, 4, 4]),\n",
       " tensor([2, 4, 6, 7, 2, 2, 6, 6, 6]),\n",
       " tensor([8, 8, 4, 6, 2, 7, 6]),\n",
       " tensor([4, 6, 6, 4, 4, 4, 4, 6]),\n",
       " tensor([6, 4, 7, 6, 8, 1]),\n",
       " tensor([8, 8, 7, 6, 4, 6, 6, 4, 6, 7, 6, 6, 0])]"
      ]
     },
     "execution_count": 61,
     "metadata": {},
     "output_type": "execute_result"
    }
   ],
   "source": [
    "pred[:10]\n"
   ]
  },
  {
   "cell_type": "code",
   "execution_count": 62,
   "metadata": {},
   "outputs": [
    {
     "data": {
      "text/plain": [
       "[{'id': 'eval-0', 'tags': 'O B-date B-date B-date O'},\n",
       " {'id': 'eval-1', 'tags': 'I-time B-date'},\n",
       " {'id': 'eval-2', 'tags': 'O B-people I-people'}]"
      ]
     },
     "execution_count": 62,
     "metadata": {},
     "output_type": "execute_result"
    }
   ],
   "source": [
    "[\n",
    "    {\n",
    "        'id': i,\n",
    "        'tags': ' '.join([\n",
    "            data_manager.idx2tag[idx]\n",
    "            for idx in p.tolist()\n",
    "        ])\n",
    "    }\n",
    "    for i, p in zip(valid_dataloader.dataset.ids, pred)\n",
    "][:3]"
   ]
  },
  {
   "cell_type": "code",
   "execution_count": 63,
   "metadata": {},
   "outputs": [
    {
     "data": {
      "text/plain": [
       "dict_keys(['I-time', 'B-first_name', 'B-date', 'B-last_name', 'B-time', 'I-date', 'O', 'B-people', 'I-people'])"
      ]
     },
     "execution_count": 63,
     "metadata": {},
     "output_type": "execute_result"
    }
   ],
   "source": [
    "data_manager.tag2idx.keys()"
   ]
  },
  {
   "cell_type": "code",
   "execution_count": 72,
   "metadata": {},
   "outputs": [
    {
     "name": "stderr",
     "output_type": "stream",
     "text": [
      "2022-03-03 08:37:49 | INFO | GPU available: True, used: True\n",
      "2022-03-03 08:37:49 | INFO | TPU available: False, using: 0 TPU cores\n",
      "2022-03-03 08:37:49 | INFO | IPU available: False, using: 0 IPUs\n",
      "2022-03-03 08:37:49 | INFO | LOCAL_RANK: 0 - CUDA_VISIBLE_DEVICES: [0,1,2,3,4,5,6,7]\n"
     ]
    },
    {
     "name": "stdout",
     "output_type": "stream",
     "text": [
      "Predicting: 100%|██████████| 117/117 [00:02<00:00, 41.22it/s]\n"
     ]
    }
   ],
   "source": [
    "from pytorch_lightning import Trainer\n",
    "\n",
    "model = SlotTagger.load_from_checkpoint(Path(\"../ckpt/intent/20220303_1542/intent-epoch=13-val_acc=0.91-val_loss=0.52.ckpt\"))\n",
    "trainer = Trainer(\n",
    "    devices=[7],\n",
    "    accelerator=\"gpu\",\n",
    "    deterministic=True,\n",
    ")\n",
    "test_dataloader = data_manager.get_test_dataloader()\n",
    "pred = trainer.predict(model, test_dataloader, return_predictions=True)"
   ]
  },
  {
   "cell_type": "code",
   "execution_count": 73,
   "metadata": {},
   "outputs": [],
   "source": [
    "pred = [sen for batch in pred for sen in batch]"
   ]
  },
  {
   "cell_type": "code",
   "execution_count": 74,
   "metadata": {},
   "outputs": [
    {
     "ename": "KeyError",
     "evalue": "50",
     "output_type": "error",
     "traceback": [
      "\u001b[0;31m---------------------------------------------------------------------------\u001b[0m",
      "\u001b[0;31mKeyError\u001b[0m                                  Traceback (most recent call last)",
      "\u001b[1;32m/home/jacky/110-2_ADL/homeworks/hw01/notebooks/check_slot.ipynb Cell 20'\u001b[0m in \u001b[0;36m<module>\u001b[0;34m\u001b[0m\n\u001b[0;32m----> <a href='vscode-notebook-cell://ssh-remote%2Baldebaran.csie.org/home/jacky/110-2_ADL/homeworks/hw01/notebooks/check_slot.ipynb#ch0000022vscode-remote?line=0'>1</a>\u001b[0m result \u001b[39m=\u001b[39m [\n\u001b[1;32m      <a href='vscode-notebook-cell://ssh-remote%2Baldebaran.csie.org/home/jacky/110-2_ADL/homeworks/hw01/notebooks/check_slot.ipynb#ch0000022vscode-remote?line=1'>2</a>\u001b[0m         {\n\u001b[1;32m      <a href='vscode-notebook-cell://ssh-remote%2Baldebaran.csie.org/home/jacky/110-2_ADL/homeworks/hw01/notebooks/check_slot.ipynb#ch0000022vscode-remote?line=2'>3</a>\u001b[0m             \u001b[39m'\u001b[39m\u001b[39mid\u001b[39m\u001b[39m'\u001b[39m: i,\n\u001b[1;32m      <a href='vscode-notebook-cell://ssh-remote%2Baldebaran.csie.org/home/jacky/110-2_ADL/homeworks/hw01/notebooks/check_slot.ipynb#ch0000022vscode-remote?line=3'>4</a>\u001b[0m             \u001b[39m'\u001b[39m\u001b[39mtags\u001b[39m\u001b[39m'\u001b[39m: \u001b[39m'\u001b[39m\u001b[39m \u001b[39m\u001b[39m'\u001b[39m\u001b[39m.\u001b[39mjoin([data_manager\u001b[39m.\u001b[39midx2tag[idx] \u001b[39mfor\u001b[39;00m idx \u001b[39min\u001b[39;00m p\u001b[39m.\u001b[39mtolist()])\n\u001b[1;32m      <a href='vscode-notebook-cell://ssh-remote%2Baldebaran.csie.org/home/jacky/110-2_ADL/homeworks/hw01/notebooks/check_slot.ipynb#ch0000022vscode-remote?line=4'>5</a>\u001b[0m         }\n\u001b[1;32m      <a href='vscode-notebook-cell://ssh-remote%2Baldebaran.csie.org/home/jacky/110-2_ADL/homeworks/hw01/notebooks/check_slot.ipynb#ch0000022vscode-remote?line=5'>6</a>\u001b[0m         \u001b[39mfor\u001b[39;00m i, p \u001b[39min\u001b[39;00m \u001b[39mzip\u001b[39m(test_dataloader\u001b[39m.\u001b[39mdataset\u001b[39m.\u001b[39mids, pred)\n\u001b[1;32m      <a href='vscode-notebook-cell://ssh-remote%2Baldebaran.csie.org/home/jacky/110-2_ADL/homeworks/hw01/notebooks/check_slot.ipynb#ch0000022vscode-remote?line=6'>7</a>\u001b[0m ]\n",
      "\u001b[1;32m/home/jacky/110-2_ADL/homeworks/hw01/notebooks/check_slot.ipynb Cell 20'\u001b[0m in \u001b[0;36m<listcomp>\u001b[0;34m(.0)\u001b[0m\n\u001b[1;32m      <a href='vscode-notebook-cell://ssh-remote%2Baldebaran.csie.org/home/jacky/110-2_ADL/homeworks/hw01/notebooks/check_slot.ipynb#ch0000022vscode-remote?line=0'>1</a>\u001b[0m result \u001b[39m=\u001b[39m [\n\u001b[1;32m      <a href='vscode-notebook-cell://ssh-remote%2Baldebaran.csie.org/home/jacky/110-2_ADL/homeworks/hw01/notebooks/check_slot.ipynb#ch0000022vscode-remote?line=1'>2</a>\u001b[0m         {\n\u001b[1;32m      <a href='vscode-notebook-cell://ssh-remote%2Baldebaran.csie.org/home/jacky/110-2_ADL/homeworks/hw01/notebooks/check_slot.ipynb#ch0000022vscode-remote?line=2'>3</a>\u001b[0m             \u001b[39m'\u001b[39m\u001b[39mid\u001b[39m\u001b[39m'\u001b[39m: i,\n\u001b[0;32m----> <a href='vscode-notebook-cell://ssh-remote%2Baldebaran.csie.org/home/jacky/110-2_ADL/homeworks/hw01/notebooks/check_slot.ipynb#ch0000022vscode-remote?line=3'>4</a>\u001b[0m             \u001b[39m'\u001b[39m\u001b[39mtags\u001b[39m\u001b[39m'\u001b[39m: \u001b[39m'\u001b[39m\u001b[39m \u001b[39m\u001b[39m'\u001b[39m\u001b[39m.\u001b[39mjoin([data_manager\u001b[39m.\u001b[39midx2tag[idx] \u001b[39mfor\u001b[39;00m idx \u001b[39min\u001b[39;00m p\u001b[39m.\u001b[39mtolist()])\n\u001b[1;32m      <a href='vscode-notebook-cell://ssh-remote%2Baldebaran.csie.org/home/jacky/110-2_ADL/homeworks/hw01/notebooks/check_slot.ipynb#ch0000022vscode-remote?line=4'>5</a>\u001b[0m         }\n\u001b[1;32m      <a href='vscode-notebook-cell://ssh-remote%2Baldebaran.csie.org/home/jacky/110-2_ADL/homeworks/hw01/notebooks/check_slot.ipynb#ch0000022vscode-remote?line=5'>6</a>\u001b[0m         \u001b[39mfor\u001b[39;00m i, p \u001b[39min\u001b[39;00m \u001b[39mzip\u001b[39m(test_dataloader\u001b[39m.\u001b[39mdataset\u001b[39m.\u001b[39mids, pred)\n\u001b[1;32m      <a href='vscode-notebook-cell://ssh-remote%2Baldebaran.csie.org/home/jacky/110-2_ADL/homeworks/hw01/notebooks/check_slot.ipynb#ch0000022vscode-remote?line=6'>7</a>\u001b[0m ]\n",
      "\u001b[1;32m/home/jacky/110-2_ADL/homeworks/hw01/notebooks/check_slot.ipynb Cell 20'\u001b[0m in \u001b[0;36m<listcomp>\u001b[0;34m(.0)\u001b[0m\n\u001b[1;32m      <a href='vscode-notebook-cell://ssh-remote%2Baldebaran.csie.org/home/jacky/110-2_ADL/homeworks/hw01/notebooks/check_slot.ipynb#ch0000022vscode-remote?line=0'>1</a>\u001b[0m result \u001b[39m=\u001b[39m [\n\u001b[1;32m      <a href='vscode-notebook-cell://ssh-remote%2Baldebaran.csie.org/home/jacky/110-2_ADL/homeworks/hw01/notebooks/check_slot.ipynb#ch0000022vscode-remote?line=1'>2</a>\u001b[0m         {\n\u001b[1;32m      <a href='vscode-notebook-cell://ssh-remote%2Baldebaran.csie.org/home/jacky/110-2_ADL/homeworks/hw01/notebooks/check_slot.ipynb#ch0000022vscode-remote?line=2'>3</a>\u001b[0m             \u001b[39m'\u001b[39m\u001b[39mid\u001b[39m\u001b[39m'\u001b[39m: i,\n\u001b[0;32m----> <a href='vscode-notebook-cell://ssh-remote%2Baldebaran.csie.org/home/jacky/110-2_ADL/homeworks/hw01/notebooks/check_slot.ipynb#ch0000022vscode-remote?line=3'>4</a>\u001b[0m             \u001b[39m'\u001b[39m\u001b[39mtags\u001b[39m\u001b[39m'\u001b[39m: \u001b[39m'\u001b[39m\u001b[39m \u001b[39m\u001b[39m'\u001b[39m\u001b[39m.\u001b[39mjoin([data_manager\u001b[39m.\u001b[39;49midx2tag[idx] \u001b[39mfor\u001b[39;00m idx \u001b[39min\u001b[39;00m p\u001b[39m.\u001b[39mtolist()])\n\u001b[1;32m      <a href='vscode-notebook-cell://ssh-remote%2Baldebaran.csie.org/home/jacky/110-2_ADL/homeworks/hw01/notebooks/check_slot.ipynb#ch0000022vscode-remote?line=4'>5</a>\u001b[0m         }\n\u001b[1;32m      <a href='vscode-notebook-cell://ssh-remote%2Baldebaran.csie.org/home/jacky/110-2_ADL/homeworks/hw01/notebooks/check_slot.ipynb#ch0000022vscode-remote?line=5'>6</a>\u001b[0m         \u001b[39mfor\u001b[39;00m i, p \u001b[39min\u001b[39;00m \u001b[39mzip\u001b[39m(test_dataloader\u001b[39m.\u001b[39mdataset\u001b[39m.\u001b[39mids, pred)\n\u001b[1;32m      <a href='vscode-notebook-cell://ssh-remote%2Baldebaran.csie.org/home/jacky/110-2_ADL/homeworks/hw01/notebooks/check_slot.ipynb#ch0000022vscode-remote?line=6'>7</a>\u001b[0m ]\n",
      "\u001b[0;31mKeyError\u001b[0m: 50"
     ]
    }
   ],
   "source": [
    "result = [\n",
    "        {\n",
    "            'id': i,\n",
    "            'tags': ' '.join([data_manager.idx2tag[idx] for idx in p.tolist()])\n",
    "        }\n",
    "        for i, p in zip(test_dataloader.dataset.ids, pred)\n",
    "]"
   ]
  },
  {
   "cell_type": "code",
   "execution_count": 78,
   "metadata": {},
   "outputs": [],
   "source": [
    "x, length = next(iter(test_dataloader))\n",
    "embeddings = model.embedding(x)\n",
    "packed_features = pack_padded_sequence(\n",
    "    input=embeddings,\n",
    "    lengths=length.cpu(),\n",
    "    batch_first=True,\n",
    "    enforce_sorted=False\n",
    ")\n",
    "packed_output_features, _ = model.rnn(packed_features)\n",
    "output_features, _ = pad_packed_sequence(\n",
    "    sequence=packed_output_features,\n",
    "    batch_first=True\n",
    ")\n",
    "flatten_features = output_features.view(-1, model.fc_hidden_size)\n",
    "flatten_output = model.fc(flatten_features)\n",
    "output = flatten_output.view(output_features.shape[0], output_features.shape[1], -1)"
   ]
  },
  {
   "cell_type": "code",
   "execution_count": 79,
   "metadata": {},
   "outputs": [
    {
     "data": {
      "text/plain": [
       "torch.Size([32, 22, 150])"
      ]
     },
     "execution_count": 79,
     "metadata": {},
     "output_type": "execute_result"
    }
   ],
   "source": [
    "output.shape"
   ]
  },
  {
   "cell_type": "code",
   "execution_count": 80,
   "metadata": {},
   "outputs": [
    {
     "data": {
      "text/plain": [
       "9"
      ]
     },
     "execution_count": 80,
     "metadata": {},
     "output_type": "execute_result"
    }
   ],
   "source": [
    "data_manager.num_class"
   ]
  },
  {
   "cell_type": "code",
   "execution_count": 81,
   "metadata": {},
   "outputs": [
    {
     "data": {
      "text/plain": [
       "SlotTagger(\n",
       "  (embedding): Embedding(5963, 300, padding_idx=0)\n",
       "  (rnn): GRU(300, 512, num_layers=2, dropout=0.2, bidirectional=True)\n",
       "  (fc): Sequential(\n",
       "    (0): Dropout(p=0.2, inplace=False)\n",
       "    (1): Linear(in_features=1024, out_features=1024, bias=True)\n",
       "    (2): PReLU(num_parameters=1)\n",
       "    (3): Dropout(p=0.2, inplace=False)\n",
       "    (4): Linear(in_features=1024, out_features=150, bias=True)\n",
       "  )\n",
       "  (loss): CrossEntropyLoss()\n",
       ")"
      ]
     },
     "execution_count": 81,
     "metadata": {},
     "output_type": "execute_result"
    }
   ],
   "source": [
    "model"
   ]
  },
  {
   "cell_type": "code",
   "execution_count": null,
   "metadata": {},
   "outputs": [],
   "source": []
  }
 ],
 "metadata": {
  "interpreter": {
   "hash": "14e17195916193df421607a98b0ec24e3c430e4b809de709985372f663764d14"
  },
  "kernelspec": {
   "display_name": "Python 3.8.12 64-bit ('adl-hw01')",
   "language": "python",
   "name": "python3"
  },
  "language_info": {
   "codemirror_mode": {
    "name": "ipython",
    "version": 3
   },
   "file_extension": ".py",
   "mimetype": "text/x-python",
   "name": "python",
   "nbconvert_exporter": "python",
   "pygments_lexer": "ipython3",
   "version": "3.8.12"
  },
  "orig_nbformat": 4
 },
 "nbformat": 4,
 "nbformat_minor": 2
}
