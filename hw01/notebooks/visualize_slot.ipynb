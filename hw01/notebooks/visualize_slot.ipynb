{
 "cells": [
  {
   "cell_type": "code",
   "execution_count": 1,
   "metadata": {},
   "outputs": [],
   "source": [
    "import sys\n",
    "sys.path.append(\"..\")\n",
    "\n",
    "from pathlib import Path\n",
    "from pytorch_lightning.utilities.model_summary import summarize\n",
    "\n",
    "from src.slot.models import SlotTagger\n",
    "from src.slot.data_manager import SlotDataManager"
   ]
  },
  {
   "cell_type": "code",
   "execution_count": 2,
   "metadata": {},
   "outputs": [
    {
     "name": "stderr",
     "output_type": "stream",
     "text": [
      "2022-03-15 07:31:46 | INFO | Vocab loaded from /home/jacky/110-2_ADL/homeworks/hw01/cache/slot/vocab.pkl\n",
      "2022-03-15 07:31:46 | INFO | Tag-2-Index loaded from /home/jacky/110-2_ADL/homeworks/hw01/cache/slot/tag2idx.json\n",
      "2022-03-15 07:31:46 | INFO | Embeddings loaded from /home/jacky/110-2_ADL/homeworks/hw01/cache/slot/embeddings.pt\n",
      "/home/jacky/.pyenv/versions/3.8.12/envs/adl-hw01/lib/python3.8/site-packages/torch/nn/modules/rnn.py:62: UserWarning: dropout option adds dropout after all but last recurrent layer, so non-zero dropout expects num_layers greater than 1, but got dropout=0.5 and num_layers=1\n",
      "  warnings.warn(\"dropout option adds dropout after all but last \"\n"
     ]
    }
   ],
   "source": [
    "data_manager = SlotDataManager(\n",
    "    cache_dir=Path(\"../cache/slot\"),\n",
    "    max_len=128,\n",
    "    batch_size=32,\n",
    "    num_workers=8,\n",
    "    data_dir=Path(\"../data/slot\"),\n",
    "    test_file=Path(\"../data/slot/test.json\")\n",
    ")\n",
    "ckpt_path = Path(\"../ckpt/slot/20220315_1446/slot-epoch=10-val_join_acc=0.80-val_token_acc=0.97-val_loss=0.11.ckpt\")\n",
    "model = SlotTagger.load_from_checkpoint(ckpt_path)"
   ]
  },
  {
   "cell_type": "code",
   "execution_count": 4,
   "metadata": {},
   "outputs": [],
   "source": [
    "test_dataloader = data_manager.get_test_dataloader()\n",
    "model.example_input_array = next(iter(test_dataloader))"
   ]
  },
  {
   "cell_type": "code",
   "execution_count": 5,
   "metadata": {},
   "outputs": [
    {
     "data": {
      "text/plain": [
       "  | Name      | Type             | Params | In sizes                       | Out sizes                                     \n",
       "---------------------------------------------------------------------------------------------------------------------------------\n",
       "0 | embedding | Embedding        | 900 K  | [32, 35]                       | [32, 35, 300]                                 \n",
       "1 | rnn       | GRU              | 330 K  | [[253, 300], [22], [32], [32]] | [[[253, 256], [22], [32], [32]], [2, 32, 128]]\n",
       "2 | fc        | Sequential       | 68.1 K | [704, 256]                     | [704, 9]                                      \n",
       "3 | fc.0      | Dropout          | 0      | [704, 256]                     | [704, 256]                                    \n",
       "4 | fc.1      | Linear           | 65.8 K | [704, 256]                     | [704, 256]                                    \n",
       "5 | fc.2      | ELU              | 0      | [704, 256]                     | [704, 256]                                    \n",
       "6 | fc.3      | Dropout          | 0      | [704, 256]                     | [704, 256]                                    \n",
       "7 | fc.4      | Linear           | 2.3 K  | [704, 256]                     | [704, 9]                                      \n",
       "8 | loss      | CrossEntropyLoss | 0      | ?                              | ?                                             \n",
       "---------------------------------------------------------------------------------------------------------------------------------\n",
       "398 K     Trainable params\n",
       "900 K     Non-trainable params\n",
       "1.3 M     Total params\n",
       "5.196     Total estimated model params size (MB)"
      ]
     },
     "execution_count": 5,
     "metadata": {},
     "output_type": "execute_result"
    }
   ],
   "source": [
    "summarize(model, max_depth=-1)"
   ]
  },
  {
   "cell_type": "code",
   "execution_count": null,
   "metadata": {},
   "outputs": [],
   "source": []
  }
 ],
 "metadata": {
  "interpreter": {
   "hash": "14e17195916193df421607a98b0ec24e3c430e4b809de709985372f663764d14"
  },
  "kernelspec": {
   "display_name": "Python 3.8.12 64-bit ('adl-hw01')",
   "language": "python",
   "name": "python3"
  },
  "language_info": {
   "codemirror_mode": {
    "name": "ipython",
    "version": 3
   },
   "file_extension": ".py",
   "mimetype": "text/x-python",
   "name": "python",
   "nbconvert_exporter": "python",
   "pygments_lexer": "ipython3",
   "version": "3.8.12"
  },
  "orig_nbformat": 4
 },
 "nbformat": 4,
 "nbformat_minor": 2
}
