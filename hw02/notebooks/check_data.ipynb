{
 "cells": [
  {
   "cell_type": "code",
   "execution_count": 1,
   "metadata": {},
   "outputs": [],
   "source": [
    "import os\n",
    "os.environ[\"CUDA_VISIBLE_DEVICES\"] = \"1\""
   ]
  },
  {
   "cell_type": "code",
   "execution_count": 2,
   "metadata": {},
   "outputs": [
    {
     "name": "stderr",
     "output_type": "stream",
     "text": [
      "/home/jacky/.pyenv/versions/3.8.12/envs/adl-hw02/lib/python3.8/site-packages/tqdm/auto.py:22: TqdmWarning: IProgress not found. Please update jupyter and ipywidgets. See https://ipywidgets.readthedocs.io/en/stable/user_install.html\n",
      "  from .autonotebook import tqdm as notebook_tqdm\n"
     ]
    }
   ],
   "source": [
    "from dataclasses import dataclass, field\n",
    "import json\n",
    "from pathlib import Path\n",
    "from typing import Union, List, Optional\n",
    "from itertools import chain\n",
    "\n",
    "from datasets import Dataset\n",
    "from transformers import (\n",
    "    AutoTokenizer\n",
    ")\n",
    "from transformers.tokenization_utils_base import PreTrainedTokenizerBase\n",
    "from transformers.tokenization_utils import PaddingStrategy\n",
    "\n",
    "data_dir = Path(\"../data\")"
   ]
  },
  {
   "cell_type": "code",
   "execution_count": 3,
   "metadata": {},
   "outputs": [],
   "source": [
    "tokenizer = AutoTokenizer.from_pretrained(\n",
    "    \"bert-base-chinese\",\n",
    "    use_fast=True,\n",
    "    model_revision=\"main\"\n",
    ")"
   ]
  },
  {
   "cell_type": "code",
   "execution_count": 4,
   "metadata": {},
   "outputs": [],
   "source": [
    "@dataclass\n",
    "class DataManager:\n",
    "\n",
    "    tokenizer: PreTrainedTokenizerBase\n",
    "    context_path: Union[str, Path]\n",
    "    train_path: Optional[Union[str, Path]] = None\n",
    "    valid_path: Optional[Union[str, Path]] = None\n",
    "    test_path: Optional[Union[str, Path]] = None\n",
    "    max_seq_length: int = 1024\n",
    "    que_col: str = \"question\"\n",
    "    para_col: str = \"paragraphs\"\n",
    "    num_para: int = 4\n",
    "    rel_col: str = \"relevant\"\n",
    "    label_col: str = \"labels\"\n",
    "\n",
    "    context: List[str] = field(init=False)\n",
    "    train_dataset: Dataset = field(default=None, init=False)\n",
    "    valid_dataset: Dataset = field(default=None, init=False)\n",
    "    test_dataset: Dataset = field(default=None, init=False)\n",
    "\n",
    "    def __post_init__(self):\n",
    "        self.max_seq_length = min(self.tokenizer.model_max_length, self.max_seq_length)\n",
    "        self.context = self.load_json(self.context_path)\n",
    "        if self.train_path is not None:\n",
    "            self.train_dataset = self.build_dataset(self.train_path)\n",
    "        if self.valid_path is not None:\n",
    "            self.valid_dataset = self.build_dataset(self.valid_path)\n",
    "        if self.test_path is not None:\n",
    "            self.test_dataset = self.build_dataset(self.test_path)\n",
    "\n",
    "    def load_json(self, file_path: Union[str, Path]) -> List:\n",
    "        result = []\n",
    "        with open(file_path, \"r\", encoding=\"utf-8\") as f:\n",
    "            result = json.load(f)\n",
    "        return result\n",
    "\n",
    "    def preprocess(self, instances):\n",
    "        questions = [\n",
    "            [question] * self.num_para\n",
    "            for question in instances[self.que_col]\n",
    "        ]\n",
    "        paragraphs = [\n",
    "            [\n",
    "                self.context[idx] if idx < len(self.context) else \"\"\n",
    "                for idx in paragraphs\n",
    "            ]\n",
    "            for paragraphs in instances[self.para_col]\n",
    "        ]\n",
    "\n",
    "        # Flatten\n",
    "        questions = list(chain.from_iterable(questions))\n",
    "        paragraphs = list(chain.from_iterable(paragraphs))\n",
    "\n",
    "        # Tokenize\n",
    "        tokenized_examples = self.tokenizer(\n",
    "            questions,\n",
    "            paragraphs,\n",
    "            truncation=True,\n",
    "            max_length=self.max_seq_length,\n",
    "            padding=False\n",
    "        )\n",
    "\n",
    "        # Un-flatten\n",
    "        result = {\n",
    "            k: [\n",
    "                v[i: i+self.num_para]\n",
    "                for i in range(0, len(v), self.num_para)\n",
    "            ]\n",
    "            for k, v in tokenized_examples.items()\n",
    "        }\n",
    "\n",
    "        if self.rel_col in instances:\n",
    "            result[self.label_col] = [\n",
    "                paragraphs.index(relevant)\n",
    "                for paragraphs, relevant in zip(instances[self.para_col], instances[self.rel_col])\n",
    "            ]\n",
    "\n",
    "        return result\n",
    "\n",
    "\n",
    "    def build_dataset(self, file_path: Union[str, Path]) -> Dataset:\n",
    "        data = self.load_json(file_path)\n",
    "        keys = data[0].keys()\n",
    "        dataset = Dataset.from_dict({\n",
    "            key: [item[key] for item in data]\n",
    "            for key in keys\n",
    "        })\n",
    "        return dataset.map(\n",
    "            self.preprocess,\n",
    "            batched=True,\n",
    "            num_proc=None,\n",
    "            load_from_cache_file=True,\n",
    "        )\n"
   ]
  },
  {
   "cell_type": "code",
   "execution_count": 6,
   "metadata": {},
   "outputs": [
    {
     "name": "stderr",
     "output_type": "stream",
     "text": [
      "100%|██████████| 22/22 [00:25<00:00,  1.14s/ba]\n",
      "100%|██████████| 4/4 [00:03<00:00,  1.14ba/s]"
     ]
    },
    {
     "name": "stdout",
     "output_type": "stream",
     "text": [
      "Context Length: 9013\n",
      "Train Length: 21714\n",
      "Valid Length: 3009\n"
     ]
    },
    {
     "name": "stderr",
     "output_type": "stream",
     "text": [
      "\n"
     ]
    }
   ],
   "source": [
    "data_manager = DataManager(\n",
    "    tokenizer=tokenizer,\n",
    "    context_path=data_dir / \"context.json\",\n",
    "    train_path=data_dir / \"train.json\",\n",
    "    valid_path=data_dir / \"valid.json\",\n",
    "    # test_path=data_dir / \"test.json\"\n",
    ")\n",
    "print(f\"Context Length: {len(data_manager.context)}\")\n",
    "print(f\"Train Length: {data_manager.train_dataset.num_rows}\")\n",
    "print(f\"Valid Length: {data_manager.valid_dataset.num_rows}\")\n",
    "# print(f\"Test Length: {data_manager.test_dataset.num_rows}\")"
   ]
  },
  {
   "cell_type": "code",
   "execution_count": 7,
   "metadata": {},
   "outputs": [],
   "source": [
    "import torch\n",
    "\n",
    "@dataclass\n",
    "class DataCollator:\n",
    "\n",
    "    tokenizer: PreTrainedTokenizerBase\n",
    "    padding: Union[bool, str, PaddingStrategy] = True\n",
    "    max_length: Optional[int] = None\n",
    "    para_col: str = \"paragraphs\"\n",
    "    label_col: str = \"labels\"\n",
    "\n",
    "    def __call__(self, features):\n",
    "        labels = [feature.pop(self.label_col) for feature in features]\n",
    "        batch_size = len(features)\n",
    "        num_choices = len(features[0][\"input_ids\"])\n",
    "\n",
    "        # Flatten\n",
    "        flattened_features  = [\n",
    "            [\n",
    "                {k: v[i] for k, v in feature.items()}\n",
    "                for i in range(num_choices)\n",
    "            ]\n",
    "            for feature in features\n",
    "        ]\n",
    "        flattened_features = list(chain.from_iterable(flattened_features))\n",
    "\n",
    "        batch = self.tokenizer.pad(\n",
    "            flattened_features,\n",
    "            padding=self.padding,\n",
    "            max_length=self.max_length,\n",
    "            pad_to_multiple_of=None,\n",
    "            return_tensors=\"pt\",\n",
    "        )\n",
    "\n",
    "        # Un-flatten\n",
    "        batch = {k: v.view(batch_size, num_choices, -1) for k, v in batch.items()}\n",
    "        # Add back labels\n",
    "        batch[self.label_col] = torch.tensor(labels, dtype=torch.int64)\n",
    "        return batch"
   ]
  },
  {
   "cell_type": "code",
   "execution_count": 8,
   "metadata": {},
   "outputs": [],
   "source": [
    "data_collator = DataCollator(\n",
    "    tokenizer=tokenizer\n",
    ")"
   ]
  },
  {
   "cell_type": "code",
   "execution_count": 9,
   "metadata": {},
   "outputs": [],
   "source": [
    "from transformers import (\n",
    "    AutoConfig,\n",
    "    AutoModelForMultipleChoice\n",
    ")\n",
    "\n",
    "config = AutoConfig.from_pretrained(\n",
    "    \"bert-base-chinese\",\n",
    "    cache_dir=None,\n",
    "    revision=\"main\",\n",
    "    use_auth_token=None,\n",
    ")\n",
    "\n",
    "model = AutoModelForMultipleChoice.from_config(config)\n",
    "\n",
    "# model = AutoModelForMultipleChoice.from_pretrained(\n",
    "#     \"bert-base-chinese\",\n",
    "#     from_tf=False,\n",
    "#     config=config,\n",
    "#     cache_dir=None,\n",
    "#     revision=\"main\",\n",
    "#     use_auth_token=None,\n",
    "# )"
   ]
  },
  {
   "cell_type": "code",
   "execution_count": 10,
   "metadata": {},
   "outputs": [],
   "source": [
    "import numpy as np\n",
    "def compute_metrics(eval_predictions):\n",
    "    predictions, label_ids = eval_predictions\n",
    "    preds = np.argmax(predictions, axis=1)\n",
    "    return {\"accuracy\": (preds == label_ids).astype(np.float32).mean().item()}"
   ]
  },
  {
   "cell_type": "code",
   "execution_count": 13,
   "metadata": {},
   "outputs": [],
   "source": [
    "from transformers import (\n",
    "    TrainingArguments,\n",
    "    Trainer\n",
    ")\n",
    "\n",
    "trainer = Trainer(\n",
    "    model=model,\n",
    "    args=TrainingArguments(\n",
    "        output_dir=\"./tmp\",\n",
    "        per_device_train_batch_size=64,\n",
    "        per_device_eval_batch_size=64,\n",
    "        gradient_accumulation_steps=1,\n",
    "        learning_rate=5e-5,\n",
    "        seed=1123,\n",
    "        # no_cuda=True\n",
    "    ),\n",
    "    train_dataset=data_manager.train_dataset,\n",
    "    eval_dataset=data_manager.valid_dataset,\n",
    "    tokenizer=tokenizer,\n",
    "    data_collator=data_collator,\n",
    "    compute_metrics=compute_metrics,\n",
    ")"
   ]
  },
  {
   "cell_type": "code",
   "execution_count": 14,
   "metadata": {},
   "outputs": [
    {
     "name": "stderr",
     "output_type": "stream",
     "text": [
      "The following columns in the evaluation set  don't have a corresponding argument in `BertForMultipleChoice.forward` and have been ignored: answer, relevant, id, question, paragraphs. If answer, relevant, id, question, paragraphs are not expected by `BertForMultipleChoice.forward`,  you can safely ignore this message.\n",
      "***** Running Evaluation *****\n",
      "  Num examples = 3009\n",
      "  Batch size = 64\n"
     ]
    },
    {
     "data": {
      "text/html": [
       "\n",
       "    <div>\n",
       "      \n",
       "      <progress value='48' max='48' style='width:300px; height:20px; vertical-align: middle;'></progress>\n",
       "      [48/48 01:12]\n",
       "    </div>\n",
       "    "
      ],
      "text/plain": [
       "<IPython.core.display.HTML object>"
      ]
     },
     "metadata": {},
     "output_type": "display_data"
    },
    {
     "data": {
      "text/plain": [
       "{'eval_loss': 1.3866825103759766,\n",
       " 'eval_accuracy': 0.21103356778621674,\n",
       " 'eval_runtime': 73.7698,\n",
       " 'eval_samples_per_second': 40.789,\n",
       " 'eval_steps_per_second': 0.651}"
      ]
     },
     "execution_count": 14,
     "metadata": {},
     "output_type": "execute_result"
    }
   ],
   "source": [
    "trainer.evaluate()"
   ]
  },
  {
   "cell_type": "code",
   "execution_count": null,
   "metadata": {},
   "outputs": [],
   "source": []
  }
 ],
 "metadata": {
  "interpreter": {
   "hash": "e88d3854f1c4b43895a586a5853165219acc8ff0d8d840d9d7406f6022443eab"
  },
  "kernelspec": {
   "display_name": "Python 3.8.12 64-bit ('adl-hw02')",
   "language": "python",
   "name": "python3"
  },
  "language_info": {
   "codemirror_mode": {
    "name": "ipython",
    "version": 3
   },
   "file_extension": ".py",
   "mimetype": "text/x-python",
   "name": "python",
   "nbconvert_exporter": "python",
   "pygments_lexer": "ipython3",
   "version": "3.8.12"
  },
  "orig_nbformat": 4
 },
 "nbformat": 4,
 "nbformat_minor": 2
}
