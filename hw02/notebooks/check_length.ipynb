{
 "cells": [
  {
   "cell_type": "code",
   "execution_count": 6,
   "metadata": {},
   "outputs": [],
   "source": [
    "from pathlib import Path\n",
    "import json\n",
    "from itertools import chain\n",
    "\n",
    "from tqdm import tqdm\n",
    "\n",
    "data_dir = Path(\"../data\")"
   ]
  },
  {
   "cell_type": "code",
   "execution_count": 2,
   "metadata": {},
   "outputs": [],
   "source": [
    "with open(data_dir / \"context.json\", \"r\", encoding=\"utf-8\") as f:\n",
    "    context = json.load(f)\n",
    "splits = (\"train\", \"valid\", \"test\")\n",
    "data = dict()\n",
    "for split in splits:\n",
    "    with open(data_dir / f\"{split}.json\", \"r\", encoding=\"utf-8\") as f:\n",
    "        data[split] = json.load(f)"
   ]
  },
  {
   "cell_type": "code",
   "execution_count": 3,
   "metadata": {},
   "outputs": [],
   "source": [
    "data_concat = {\n",
    "    split: [[f\"{d['question']} {context[paragraph]}\" for paragraph in d[\"paragraphs\"]] for d in dataset]\n",
    "    for split, dataset in data.items()\n",
    "}"
   ]
  },
  {
   "cell_type": "code",
   "execution_count": 10,
   "metadata": {},
   "outputs": [
    {
     "name": "stderr",
     "output_type": "stream",
     "text": [
      "107744it [00:00, 1391943.28it/s]\n"
     ]
    }
   ],
   "source": [
    "length = [\n",
    "    len(sentence)\n",
    "    for sentence in tqdm(chain.from_iterable(chain.from_iterable(data_concat.values())))\n",
    "]"
   ]
  },
  {
   "cell_type": "code",
   "execution_count": 13,
   "metadata": {},
   "outputs": [
    {
     "data": {
      "text/plain": [
       "(1808, 183)"
      ]
     },
     "execution_count": 13,
     "metadata": {},
     "output_type": "execute_result"
    }
   ],
   "source": [
    "max(length), min(length)"
   ]
  },
  {
   "cell_type": "code",
   "execution_count": 19,
   "metadata": {},
   "outputs": [
    {
     "data": {
      "text/plain": [
       "(0.7888142263142263, 0.9976796851796852)"
      ]
     },
     "execution_count": 19,
     "metadata": {},
     "output_type": "execute_result"
    }
   ],
   "source": [
    "import numpy as np\n",
    "(np.array(length) <= 512).mean(), (np.array(length) <= 1024).mean()"
   ]
  },
  {
   "cell_type": "code",
   "execution_count": null,
   "metadata": {},
   "outputs": [],
   "source": []
  }
 ],
 "metadata": {
  "interpreter": {
   "hash": "e88d3854f1c4b43895a586a5853165219acc8ff0d8d840d9d7406f6022443eab"
  },
  "kernelspec": {
   "display_name": "Python 3.8.12 64-bit ('adl-hw02')",
   "language": "python",
   "name": "python3"
  },
  "language_info": {
   "codemirror_mode": {
    "name": "ipython",
    "version": 3
   },
   "file_extension": ".py",
   "mimetype": "text/x-python",
   "name": "python",
   "nbconvert_exporter": "python",
   "pygments_lexer": "ipython3",
   "version": "3.8.12"
  },
  "orig_nbformat": 4
 },
 "nbformat": 4,
 "nbformat_minor": 2
}
